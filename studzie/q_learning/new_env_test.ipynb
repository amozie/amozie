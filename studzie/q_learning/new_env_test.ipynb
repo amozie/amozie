{
 "cells": [
  {
   "cell_type": "code",
   "execution_count": 1,
   "metadata": {
    "collapsed": true
   },
   "outputs": [
    {
     "name": "stderr",
     "output_type": "stream",
     "text": [
      "Using TensorFlow backend.\n"
     ]
    }
   ],
   "source": [
    "import numpy as np\n",
    "import gym\n",
    "import time\n",
    "\n",
    "from keras.models import Sequential\n",
    "from keras.layers import Dense, Activation, Flatten\n",
    "from keras.optimizers import Adam\n",
    "\n",
    "from gym import Env, spaces\n",
    "from gym.utils import seeding\n",
    "from rl.agents.dqn import DQNAgent\n",
    "from rl.policy import BoltzmannQPolicy\n",
    "from rl.memory import SequentialMemory"
   ]
  },
  {
   "cell_type": "code",
   "execution_count": 72,
   "metadata": {},
   "outputs": [],
   "source": [
    "class TestEnv(Env):\n",
    "    metadata = {'render.modes': ['human', 'ansi']}\n",
    "\n",
    "    def __init__(self) -> None:\n",
    "        self.__max_step = 10\n",
    "\n",
    "        self.action_space = spaces.Discrete(2)\n",
    "        self.observation_space = spaces.Box(np.array([0]), np.array([1]))\n",
    "\n",
    "        self._seed()\n",
    "        self.state = None\n",
    "        self.__step = None\n",
    "        self.state_list = None\n",
    "\n",
    "    def _seed(self, seed=None):\n",
    "        pass\n",
    "\n",
    "    def _step(self, action):\n",
    "        state = self.state\n",
    "        if state != action:\n",
    "            reward = 1\n",
    "        else:\n",
    "            reward = 0\n",
    "        self.state = action\n",
    "        self.state_list.append(action)\n",
    "        self.__step += 1\n",
    "        if self.__step < self.__max_step:\n",
    "            done = False\n",
    "        else:\n",
    "            done = True\n",
    "        return np.array(self.state), reward, done, {}\n",
    "\n",
    "    def _reset(self):\n",
    "        self.__step = 0\n",
    "        self.state = np.random.randint(2)\n",
    "        self.state_list = []\n",
    "        self.state_list.append(self.state)\n",
    "        return np.array(self.state)\n",
    "\n",
    "    def _render(self, mode='human', close=False):\n",
    "        pass\n",
    "\n",
    "    def _close(self):\n",
    "        super()._close()"
   ]
  },
  {
   "cell_type": "code",
   "execution_count": 76,
   "metadata": {},
   "outputs": [],
   "source": [
    "env = TestEnv()\n",
    "env.reset()\n",
    "nb_actions = env.action_space.n"
   ]
  },
  {
   "cell_type": "code",
   "execution_count": 74,
   "metadata": {
    "collapsed": true
   },
   "outputs": [
    {
     "name": "stdout",
     "output_type": "stream",
     "text": [
      "None\n1 0 False {}\nNone\n0 1 False {}\nNone\n1 1 False {}\nNone\n1 0 False {}\nNone\n1 0 False {}\nNone\n1 0 False {}\nNone\n0 1 False {}\nNone\n1 1 False {}\nNone\n1 0 False {}\nNone\n0 1 True {}\n"
     ]
    }
   ],
   "source": [
    "for i in range(10):\n",
    "    action = env.action_space.sample()\n",
    "    observation, reward, done, info = env.step(action)\n",
    "    print(env.render())\n",
    "    print(action, reward, done, info)"
   ]
  },
  {
   "cell_type": "code",
   "execution_count": 89,
   "metadata": {
    "collapsed": true
   },
   "outputs": [
    {
     "name": "stdout",
     "output_type": "stream",
     "text": [
      "_________________________________________________________________\nLayer (type)                 Output Shape              Param #   \n=================================================================\ndense_18 (Dense)             (None, 16)                32        \n_________________________________________________________________\nactivation_16 (Activation)   (None, 16)                0         \n_________________________________________________________________\ndense_19 (Dense)             (None, 16)                272       \n_________________________________________________________________\nactivation_17 (Activation)   (None, 16)                0         \n_________________________________________________________________\ndense_20 (Dense)             (None, 2)                 34        \n_________________________________________________________________\nactivation_18 (Activation)   (None, 2)                 0         \n=================================================================\nTotal params: 338\nTrainable params: 338\nNon-trainable params: 0\n_________________________________________________________________\nNone\n"
     ]
    }
   ],
   "source": [
    "model = Sequential()\n",
    "model.add(Dense(16, input_dim=1))\n",
    "model.add(Activation('relu'))\n",
    "model.add(Dense(16))\n",
    "model.add(Activation('relu'))\n",
    "model.add(Dense(nb_actions))\n",
    "model.add(Activation('linear'))\n",
    "print(model.summary())"
   ]
  },
  {
   "cell_type": "code",
   "execution_count": 90,
   "metadata": {},
   "outputs": [],
   "source": [
    "memory = SequentialMemory(limit=500, window_length=1)\n",
    "policy = BoltzmannQPolicy()\n",
    "dqn = DQNAgent(model=model, nb_actions=nb_actions, memory=memory, nb_steps_warmup=10,\n",
    "               target_model_update=1e-2, policy=policy)\n",
    "dqn.compile(Adam(lr=1e-3), metrics=['mae'])"
   ]
  },
  {
   "cell_type": "code",
   "execution_count": 91,
   "metadata": {
    "collapsed": true
   },
   "outputs": [
    {
     "name": "stdout",
     "output_type": "stream",
     "text": [
      "Training for 500 steps ...\n"
     ]
    },
    {
     "name": "stdout",
     "output_type": "stream",
     "text": [
      "  10/500: episode: 1, duration: 0.260s, episode steps: 10, steps per second: 38, episode reward: 4.000, mean reward: 0.400 [0.000, 1.000], mean action: 0.700 [0.000, 1.000], mean observation: 0.700 [0.000, 1.000], loss: --, mean_absolute_error: --, mean_q: --\n"
     ]
    },
    {
     "name": "stderr",
     "output_type": "stream",
     "text": [
      "D:\\Anaconda3\\lib\\site-packages\\rl\\memory.py:29: UserWarning: Not enough entries to sample without replacement. Consider increasing your warm-up phase to avoid oversampling!\n  warnings.warn('Not enough entries to sample without replacement. Consider increasing your warm-up phase to avoid oversampling!')\n"
     ]
    },
    {
     "name": "stdout",
     "output_type": "stream",
     "text": [
      "  20/500: episode: 2, duration: 0.847s, episode steps: 10, steps per second: 12, episode reward: 6.000, mean reward: 0.600 [0.000, 1.000], mean action: 0.600 [0.000, 1.000], mean observation: 0.600 [0.000, 1.000], loss: 0.204305, mean_absolute_error: 0.244222, mean_q: -0.036266\n  30/500: episode: 3, duration: 0.072s, episode steps: 10, steps per second: 138, episode reward: 8.000, mean reward: 0.800 [0.000, 1.000], mean action: 0.600 [0.000, 1.000], mean observation: 0.600 [0.000, 1.000], loss: 0.208128, mean_absolute_error: 0.276934, mean_q: 0.073283\n  40/500: episode: 4, duration: 0.035s, episode steps: 10, steps per second: 282, episode reward: 6.000, mean reward: 0.600 [0.000, 1.000], mean action: 0.600 [0.000, 1.000], mean observation: 0.600 [0.000, 1.000], loss: 0.203746, mean_absolute_error: 0.318454, mean_q: 0.172380\n  50/500: episode: 5, duration: 0.028s, episode steps: 10, steps per second: 363, episode reward: 6.000, mean reward: 0.600 [0.000, 1.000], mean action: 0.300 [0.000, 1.000], mean observation: 0.300 [0.000, 1.000], loss: 0.178636, mean_absolute_error: 0.338824, mean_q: 0.256213\n  60/500: episode: 6, duration: 0.027s, episode steps: 10, steps per second: 370, episode reward: 5.000, mean reward: 0.500 [0.000, 1.000], mean action: 0.400 [0.000, 1.000], mean observation: 0.400 [0.000, 1.000], loss: 0.151873, mean_absolute_error: 0.357914, mean_q: 0.342923"
     ]
    },
    {
     "name": "stderr",
     "output_type": "stream",
     "text": [
      "D:\\Anaconda3\\lib\\site-packages\\rl\\memory.py:29: UserWarning: Not enough entries to sample without replacement. Consider increasing your warm-up phase to avoid oversampling!\n  warnings.warn('Not enough entries to sample without replacement. Consider increasing your warm-up phase to avoid oversampling!')\n"
     ]
    },
    {
     "name": "stdout",
     "output_type": "stream",
     "text": [
      "\n  70/500: episode: 7, duration: 0.034s, episode steps: 10, steps per second: 294, episode reward: 7.000, mean reward: 0.700 [0.000, 1.000], mean action: 0.600 [0.000, 1.000], mean observation: 0.600 [0.000, 1.000], loss: 0.138510, mean_absolute_error: 0.391101, mean_q: 0.455652\n  80/500: episode: 8, duration: 0.030s, episode steps: 10, steps per second: 336, episode reward: 7.000, mean reward: 0.700 [0.000, 1.000], mean action: 0.300 [0.000, 1.000], mean observation: 0.300 [0.000, 1.000], loss: 0.126541, mean_absolute_error: 0.413581, mean_q: 0.561518\n  90/500: episode: 9, duration: 0.027s, episode steps: 10, steps per second: 369, episode reward: 4.000, mean reward: 0.400 [0.000, 1.000], mean action: 0.300 [0.000, 1.000], mean observation: 0.300 [0.000, 1.000], loss: 0.119551, mean_absolute_error: 0.442308, mean_q: 0.661144\n 100/500: episode: 10, duration: 0.028s, episode steps: 10, steps per second: 363, episode reward: 5.000, mean reward: 0.500 [0.000, 1.000], mean action: 0.200 [0.000, 1.000], mean observation: 0.200 [0.000, 1.000], loss: 0.104121, mean_absolute_error: 0.444987, mean_q: 0.745507\n 110/500: episode: 11, duration: 0.027s, episode steps: 10, steps per second: 373, episode reward: 6.000, mean reward: 0.600 [0.000, 1.000], mean action: 0.400 [0.000, 1.000], mean observation: 0.400 [0.000, 1.000], loss: 0.112632, mean_absolute_error: 0.464360, mean_q: 0.734290\n 120/500: episode: 12, duration: 0.027s, episode steps: 10, steps per second: 369, episode reward: 8.000, mean reward: 0.800 [0.000, 1.000], mean action: 0.500 [0.000, 1.000], mean observation: 0.500 [0.000, 1.000], loss: 0.103756, mean_absolute_error: 0.456440, mean_q: 0.791033\n 130/500: episode: 13, duration: 0.027s, episode steps: 10, steps per second: 375, episode reward: 6.000, mean reward: 0.600 [0.000, 1.000], mean action: 0.400 [0.000, 1.000], mean observation: 0.400 [0.000, 1.000], loss: 0.107405, mean_absolute_error: 0.480932, mean_q: 0.833397\n 140/500: episode: 14, duration: 0.028s, episode steps: 10, steps per second: 360, episode reward: 6.000, mean reward: 0.600 [0.000, 1.000], mean action: 0.300 [0.000, 1.000], mean observation: 0.300 [0.000, 1.000], loss: 0.092224, mean_absolute_error: 0.498398, mean_q: 0.898630\n"
     ]
    },
    {
     "name": "stdout",
     "output_type": "stream",
     "text": [
      " 150/500: episode: 15, duration: 0.027s, episode steps: 10, steps per second: 366, episode reward: 9.000, mean reward: 0.900 [0.000, 1.000], mean action: 0.600 [0.000, 1.000], mean observation: 0.600 [0.000, 1.000], loss: 0.083586, mean_absolute_error: 0.511489, mean_q: 0.979446\n 160/500: episode: 16, duration: 0.030s, episode steps: 10, steps per second: 337, episode reward: 8.000, mean reward: 0.800 [0.000, 1.000], mean action: 0.400 [0.000, 1.000], mean observation: 0.400 [0.000, 1.000], loss: 0.074307, mean_absolute_error: 0.510527, mean_q: 1.051722\n 170/500: episode: 17, duration: 0.027s, episode steps: 10, steps per second: 369, episode reward: 7.000, mean reward: 0.700 [0.000, 1.000], mean action: 0.600 [0.000, 1.000], mean observation: 0.600 [0.000, 1.000], loss: 0.066230, mean_absolute_error: 0.544103, mean_q: 1.154430\n 180/500: episode: 18, duration: 0.027s, episode steps: 10, steps per second: 367, episode reward: 6.000, mean reward: 0.600 [0.000, 1.000], mean action: 0.500 [0.000, 1.000], mean observation: 0.500 [0.000, 1.000], loss: 0.052639, mean_absolute_error: 0.570823, mean_q: 1.253677\n 190/500: episode: 19, duration: 0.027s, episode steps: 10, steps per second: 365, episode reward: 7.000, mean reward: 0.700 [0.000, 1.000], mean action: 0.500 [0.000, 1.000], mean observation: 0.500 [0.000, 1.000], loss: 0.047818, mean_absolute_error: 0.582687, mean_q: 1.342878\n 200/500: episode: 20, duration: 0.028s, episode steps: 10, steps per second: 363, episode reward: 6.000, mean reward: 0.600 [0.000, 1.000], mean action: 0.600 [0.000, 1.000], mean observation: 0.600 [0.000, 1.000], loss: 0.039796, mean_absolute_error: 0.588150, mean_q: 1.424909\n 210/500: episode: 21, duration: 0.028s, episode steps: 10, steps per second: 355, episode reward: 8.000, mean reward: 0.800 [0.000, 1.000], mean action: 0.500 [0.000, 1.000], mean observation: 0.500 [0.000, 1.000], loss: 0.033096, mean_absolute_error: 0.599741, mean_q: 1.534194\n 220/500: episode: 22, duration: 0.028s, episode steps: 10, steps per second: 361, episode reward: 5.000, mean reward: 0.500 [0.000, 1.000], mean action: 0.600 [0.000, 1.000], mean observation: 0.600 [0.000, 1.000], loss: 0.030817, mean_absolute_error: 0.651714, mean_q: 1.651928\n"
     ]
    },
    {
     "name": "stdout",
     "output_type": "stream",
     "text": [
      " 230/500: episode: 23, duration: 0.031s, episode steps: 10, steps per second: 318, episode reward: 6.000, mean reward: 0.600 [0.000, 1.000], mean action: 0.700 [0.000, 1.000], mean observation: 0.700 [0.000, 1.000], loss: 0.037955, mean_absolute_error: 0.661222, mean_q: 1.720475\n 240/500: episode: 24, duration: 0.028s, episode steps: 10, steps per second: 358, episode reward: 7.000, mean reward: 0.700 [0.000, 1.000], mean action: 0.300 [0.000, 1.000], mean observation: 0.300 [0.000, 1.000], loss: 0.037892, mean_absolute_error: 0.712880, mean_q: 1.799912\n 250/500: episode: 25, duration: 0.027s, episode steps: 10, steps per second: 368, episode reward: 8.000, mean reward: 0.800 [0.000, 1.000], mean action: 0.500 [0.000, 1.000], mean observation: 0.500 [0.000, 1.000], loss: 0.048039, mean_absolute_error: 0.721043, mean_q: 1.899179\n 260/500: episode: 26, duration: 0.028s, episode steps: 10, steps per second: 361, episode reward: 8.000, mean reward: 0.800 [0.000, 1.000], mean action: 0.500 [0.000, 1.000], mean observation: 0.500 [0.000, 1.000], loss: 0.060833, mean_absolute_error: 0.774170, mean_q: 1.959280\n 270/500: episode: 27, duration: 0.027s, episode steps: 10, steps per second: 370, episode reward: 6.000, mean reward: 0.600 [0.000, 1.000], mean action: 0.500 [0.000, 1.000], mean observation: 0.500 [0.000, 1.000], loss: 0.049529, mean_absolute_error: 0.801683, mean_q: 2.036418\n 280/500: episode: 28, duration: 0.027s, episode steps: 10, steps per second: 373, episode reward: 8.000, mean reward: 0.800 [0.000, 1.000], mean action: 0.400 [0.000, 1.000], mean observation: 0.400 [0.000, 1.000], loss: 0.062588, mean_absolute_error: 0.844766, mean_q: 2.122331\n 290/500: episode: 29, duration: 0.027s, episode steps: 10, steps per second: 372, episode reward: 9.000, mean reward: 0.900 [0.000, 1.000], mean action: 0.500 [0.000, 1.000], mean observation: 0.500 [0.000, 1.000], loss: 0.079467, mean_absolute_error: 0.916517, mean_q: 2.181531\n 300/500: episode: 30, duration: 0.027s, episode steps: 10, steps per second: 368, episode reward: 9.000, mean reward: 0.900 [0.000, 1.000], mean action: 0.400 [0.000, 1.000], mean observation: 0.400 [0.000, 1.000], loss: 0.100862, mean_absolute_error: 0.968176, mean_q: 2.243161\n"
     ]
    },
    {
     "name": "stdout",
     "output_type": "stream",
     "text": [
      " 310/500: episode: 31, duration: 0.030s, episode steps: 10, steps per second: 329, episode reward: 8.000, mean reward: 0.800 [0.000, 1.000], mean action: 0.400 [0.000, 1.000], mean observation: 0.400 [0.000, 1.000], loss: 0.083581, mean_absolute_error: 0.963539, mean_q: 2.273774\n 320/500: episode: 32, duration: 0.028s, episode steps: 10, steps per second: 357, episode reward: 8.000, mean reward: 0.800 [0.000, 1.000], mean action: 0.600 [0.000, 1.000], mean observation: 0.600 [0.000, 1.000], loss: 0.119693, mean_absolute_error: 1.016399, mean_q: 2.365076\n 330/500: episode: 33, duration: 0.027s, episode steps: 10, steps per second: 373, episode reward: 7.000, mean reward: 0.700 [0.000, 1.000], mean action: 0.600 [0.000, 1.000], mean observation: 0.600 [0.000, 1.000], loss: 0.128177, mean_absolute_error: 1.043213, mean_q: 2.415470\n 340/500: episode: 34, duration: 0.027s, episode steps: 10, steps per second: 368, episode reward: 6.000, mean reward: 0.600 [0.000, 1.000], mean action: 0.700 [0.000, 1.000], mean observation: 0.700 [0.000, 1.000], loss: 0.109718, mean_absolute_error: 1.083232, mean_q: 2.465786\n 350/500: episode: 35, duration: 0.027s, episode steps: 10, steps per second: 371, episode reward: 8.000, mean reward: 0.800 [0.000, 1.000], mean action: 0.400 [0.000, 1.000], mean observation: 0.400 [0.000, 1.000], loss: 0.201844, mean_absolute_error: 1.137974, mean_q: 2.569877\n 360/500: episode: 36, duration: 0.027s, episode steps: 10, steps per second: 373, episode reward: 5.000, mean reward: 0.500 [0.000, 1.000], mean action: 0.700 [0.000, 1.000], mean observation: 0.700 [0.000, 1.000], loss: 0.153891, mean_absolute_error: 1.153581, mean_q: 2.550801\n 370/500: episode: 37, duration: 0.027s, episode steps: 10, steps per second: 373, episode reward: 7.000, mean reward: 0.700 [0.000, 1.000], mean action: 0.600 [0.000, 1.000], mean observation: 0.600 [0.000, 1.000], loss: 0.165412, mean_absolute_error: 1.212923, mean_q: 2.707990\n 380/500: episode: 38, duration: 0.027s, episode steps: 10, steps per second: 371, episode reward: 5.000, mean reward: 0.500 [0.000, 1.000], mean action: 0.700 [0.000, 1.000], mean observation: 0.700 [0.000, 1.000], loss: 0.223957, mean_absolute_error: 1.289460, mean_q: 2.784972\n"
     ]
    },
    {
     "name": "stdout",
     "output_type": "stream",
     "text": [
      " 390/500: episode: 39, duration: 0.031s, episode steps: 10, steps per second: 322, episode reward: 8.000, mean reward: 0.800 [0.000, 1.000], mean action: 0.500 [0.000, 1.000], mean observation: 0.500 [0.000, 1.000], loss: 0.201779, mean_absolute_error: 1.285506, mean_q: 2.746770\n 400/500: episode: 40, duration: 0.029s, episode steps: 10, steps per second: 342, episode reward: 6.000, mean reward: 0.600 [0.000, 1.000], mean action: 0.700 [0.000, 1.000], mean observation: 0.700 [0.000, 1.000], loss: 0.215626, mean_absolute_error: 1.325908, mean_q: 2.900595\n 410/500: episode: 41, duration: 0.027s, episode steps: 10, steps per second: 369, episode reward: 6.000, mean reward: 0.600 [0.000, 1.000], mean action: 0.500 [0.000, 1.000], mean observation: 0.500 [0.000, 1.000], loss: 0.231291, mean_absolute_error: 1.377240, mean_q: 2.906313\n 420/500: episode: 42, duration: 0.027s, episode steps: 10, steps per second: 372, episode reward: 8.000, mean reward: 0.800 [0.000, 1.000], mean action: 0.600 [0.000, 1.000], mean observation: 0.600 [0.000, 1.000], loss: 0.242099, mean_absolute_error: 1.406740, mean_q: 2.980156\n 430/500: episode: 43, duration: 0.027s, episode steps: 10, steps per second: 369, episode reward: 4.000, mean reward: 0.400 [0.000, 1.000], mean action: 0.800 [0.000, 1.000], mean observation: 0.800 [0.000, 1.000], loss: 0.268479, mean_absolute_error: 1.433520, mean_q: 2.987729\n 440/500: episode: 44, duration: 0.028s, episode steps: 10, steps per second: 363, episode reward: 10.000, mean reward: 1.000 [1.000, 1.000], mean action: 0.500 [0.000, 1.000], mean observation: 0.500 [0.000, 1.000], loss: 0.218409, mean_absolute_error: 1.454609, mean_q: 3.122195\n 450/500: episode: 45, duration: 0.027s, episode steps: 10, steps per second: 367, episode reward: 9.000, mean reward: 0.900 [0.000, 1.000], mean action: 0.500 [0.000, 1.000], mean observation: 0.500 [0.000, 1.000], loss: 0.349677, mean_absolute_error: 1.540949, mean_q: 3.246567\n 460/500: episode: 46, duration: 0.027s, episode steps: 10, steps per second: 367, episode reward: 6.000, mean reward: 0.600 [0.000, 1.000], mean action: 0.300 [0.000, 1.000], mean observation: 0.300 [0.000, 1.000], loss: 0.347409, mean_absolute_error: 1.546512, mean_q: 3.171286\n"
     ]
    },
    {
     "name": "stdout",
     "output_type": "stream",
     "text": [
      " 470/500: episode: 47, duration: 0.029s, episode steps: 10, steps per second: 347, episode reward: 9.000, mean reward: 0.900 [0.000, 1.000], mean action: 0.400 [0.000, 1.000], mean observation: 0.400 [0.000, 1.000], loss: 0.353905, mean_absolute_error: 1.586446, mean_q: 3.241910\n 480/500: episode: 48, duration: 0.029s, episode steps: 10, steps per second: 341, episode reward: 8.000, mean reward: 0.800 [0.000, 1.000], mean action: 0.600 [0.000, 1.000], mean observation: 0.600 [0.000, 1.000], loss: 0.325093, mean_absolute_error: 1.597956, mean_q: 3.368885\n 490/500: episode: 49, duration: 0.028s, episode steps: 10, steps per second: 355, episode reward: 7.000, mean reward: 0.700 [0.000, 1.000], mean action: 0.300 [0.000, 1.000], mean observation: 0.300 [0.000, 1.000], loss: 0.300789, mean_absolute_error: 1.648817, mean_q: 3.410449\n 500/500: episode: 50, duration: 0.028s, episode steps: 10, steps per second: 358, episode reward: 8.000, mean reward: 0.800 [0.000, 1.000], mean action: 0.400 [0.000, 1.000], mean observation: 0.400 [0.000, 1.000], loss: 0.337537, mean_absolute_error: 1.664439, mean_q: 3.494025\ndone, took 2.562 seconds\n"
     ]
    },
    {
     "data": {
      "text/plain": [
       "<keras.callbacks.History at 0x263a8112668>"
      ]
     },
     "execution_count": 91,
     "metadata": {},
     "output_type": "execute_result"
    }
   ],
   "source": [
    "dqn.fit(env, nb_steps=500, visualize=True, verbose=2)"
   ]
  },
  {
   "cell_type": "code",
   "execution_count": 100,
   "metadata": {},
   "outputs": [
    {
     "name": "stdout",
     "output_type": "stream",
     "text": [
      "Testing for 1 episodes ...\nEpisode 1: reward: 10.000, steps: 10\n[0, 1, 0, 1, 0, 1, 0, 1, 0, 1, 0]\n"
     ]
    }
   ],
   "source": [
    "env.reset()\n",
    "dqn.test(env)\n",
    "print(env.state_list)"
   ]
  }
 ],
 "metadata": {
  "kernelspec": {
   "display_name": "Python 2",
   "language": "python",
   "name": "python2"
  },
  "language_info": {
   "codemirror_mode": {
    "name": "ipython",
    "version": 2.0
   },
   "file_extension": ".py",
   "mimetype": "text/x-python",
   "name": "python",
   "nbconvert_exporter": "python",
   "pygments_lexer": "ipython2",
   "version": "2.7.6"
  }
 },
 "nbformat": 4,
 "nbformat_minor": 0
}