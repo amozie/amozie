{
 "cells": [
  {
   "cell_type": "code",
   "execution_count": 1,
   "metadata": {
    "collapsed": true
   },
   "outputs": [
    {
     "name": "stderr",
     "output_type": "stream",
     "text": [
      "Using TensorFlow backend.\n"
     ]
    }
   ],
   "source": [
    "import numpy as np\n",
    "import gym\n",
    "import time\n",
    "\n",
    "from keras.models import Sequential\n",
    "from keras.layers import Dense, Activation, Flatten\n",
    "from keras.optimizers import Adam\n",
    "\n",
    "from gym import Env, spaces\n",
    "from gym.utils import seeding\n",
    "from rl.agents.dqn import DQNAgent\n",
    "from rl.policy import BoltzmannQPolicy\n",
    "from rl.memory import SequentialMemory"
   ]
  },
  {
   "cell_type": "code",
   "execution_count": 77,
   "metadata": {},
   "outputs": [],
   "source": [
    "class TestEnv(Env):\n",
    "    metadata = {'render.modes': ['human', 'ansi']}\n",
    "\n",
    "    def __init__(self) -> None:\n",
    "        self.__max_step = 10\n",
    "\n",
    "        self.action_space = spaces.Discrete(2)\n",
    "        self.observation_space = spaces.Box(np.array([0, 0]), np.array([0, 0]))\n",
    "\n",
    "        self._seed()\n",
    "        self.state = None\n",
    "        self.__step = None\n",
    "        self.state_list = None\n",
    "\n",
    "    def _seed(self, seed=None):\n",
    "        pass\n",
    "\n",
    "    def _step(self, action):\n",
    "        if (np.sum(self.state) == 1 and action == 1) or (np.sum(self.state) != 1 and action == 0):\n",
    "            reward = 1\n",
    "        else:\n",
    "            reward = 0\n",
    "        self.state = np.array([self.state[1], action])\n",
    "        self.state_list.append(action)\n",
    "        self.__step += 1\n",
    "        if self.__step < self.__max_step:\n",
    "            done = False\n",
    "        else:\n",
    "            done = True\n",
    "        return self.state, reward, done, {}\n",
    "\n",
    "    def _reset(self):\n",
    "        self.__step = 0\n",
    "        self.state = np.random.randint(0, 2, 2)\n",
    "        self.state_list = []\n",
    "        self.state_list.extend(self.state.tolist())\n",
    "        return self.state\n",
    "\n",
    "    def _render(self, mode='ansi', close=False):\n",
    "        print(self.state_list)\n",
    "\n",
    "    def _close(self):\n",
    "        super()._close()"
   ]
  },
  {
   "cell_type": "code",
   "execution_count": 82,
   "metadata": {},
   "outputs": [
    {
     "name": "stdout",
     "output_type": "stream",
     "text": [
      "[1, 0]\n"
     ]
    }
   ],
   "source": [
    "env = TestEnv()\n",
    "env.reset()\n",
    "nb_actions = env.action_space.n"
   ]
  },
  {
   "cell_type": "code",
   "execution_count": 79,
   "metadata": {
    "collapsed": true
   },
   "outputs": [
    {
     "name": "stdout",
     "output_type": "stream",
     "text": [
      "[1, 0, 0]\nNone\n0 0 False {}\n[1, 0, 0, 1]\nNone\n1 0 False {}\n[1, 0, 0, 1, 0]\nNone\n0 0 False {}\n[1, 0, 0, 1, 0, 1]\nNone\n1 1 False {}\n[1, 0, 0, 1, 0, 1, 1]\nNone\n1 1 False {}\n[1, 0, 0, 1, 0, 1, 1, 0]\nNone\n0 1 False {}\n[1, 0, 0, 1, 0, 1, 1, 0, 1]\nNone\n1 1 False {}\n[1, 0, 0, 1, 0, 1, 1, 0, 1, 1]\nNone\n1 1 False {}\n[1, 0, 0, 1, 0, 1, 1, 0, 1, 1, 0]\nNone\n0 1 False {}\n[1, 0, 0, 1, 0, 1, 1, 0, 1, 1, 0, 0]\nNone\n0 0 True {}\n"
     ]
    }
   ],
   "source": [
    "for i in range(10):\n",
    "    action = env.action_space.sample()\n",
    "    observation, reward, done, info = env.step(action)\n",
    "    print(env.render())\n",
    "    print(action, reward, done, info)"
   ]
  },
  {
   "cell_type": "code",
   "execution_count": 89,
   "metadata": {
    "collapsed": true
   },
   "outputs": [
    {
     "name": "stdout",
     "output_type": "stream",
     "text": [
      "_________________________________________________________________\nLayer (type)                 Output Shape              Param #   \n=================================================================\nflatten_5 (Flatten)          (None, 2)                 0         \n_________________________________________________________________\ndense_13 (Dense)             (None, 16)                48        \n_________________________________________________________________\nactivation_13 (Activation)   (None, 16)                0         \n_________________________________________________________________\ndense_14 (Dense)             (None, 16)                272       \n_________________________________________________________________\nactivation_14 (Activation)   (None, 16)                0         \n_________________________________________________________________\ndense_15 (Dense)             (None, 2)                 34        \n_________________________________________________________________\nactivation_15 (Activation)   (None, 2)                 0         \n=================================================================\nTotal params: 354\nTrainable params: 354\nNon-trainable params: 0\n_________________________________________________________________\nNone\n"
     ]
    }
   ],
   "source": [
    "model = Sequential()\n",
    "model.add(Flatten(input_shape=(1,) + env.observation_space.shape))\n",
    "model.add(Dense(16))\n",
    "model.add(Activation('relu'))\n",
    "model.add(Dense(16))\n",
    "model.add(Activation('relu'))\n",
    "model.add(Dense(nb_actions))\n",
    "model.add(Activation('linear'))\n",
    "print(model.summary())"
   ]
  },
  {
   "cell_type": "code",
   "execution_count": 84,
   "metadata": {},
   "outputs": [],
   "source": [
    "memory = SequentialMemory(limit=500, window_length=1)\n",
    "policy = BoltzmannQPolicy()\n",
    "dqn = DQNAgent(model=model, nb_actions=nb_actions, memory=memory, nb_steps_warmup=10,\n",
    "               target_model_update=1e-2, policy=policy)\n",
    "dqn.compile(Adam(lr=1e-3), metrics=['mae'])"
   ]
  },
  {
   "cell_type": "code",
   "execution_count": 85,
   "metadata": {
    "collapsed": true
   },
   "outputs": [
    {
     "name": "stdout",
     "output_type": "stream",
     "text": [
      "Training for 500 steps ...\n  10/500: episode: 1, duration: 0.136s, episode steps: 10, steps per second: 73, episode reward: 6.000, mean reward: 0.600 [0.000, 1.000], mean action: 0.700 [0.000, 1.000], mean observation: 0.650 [0.000, 1.000], loss: --, mean_absolute_error: --, mean_q: --\n"
     ]
    },
    {
     "name": "stderr",
     "output_type": "stream",
     "text": [
      "D:\\Anaconda3\\lib\\site-packages\\rl\\memory.py:29: UserWarning: Not enough entries to sample without replacement. Consider increasing your warm-up phase to avoid oversampling!\n  warnings.warn('Not enough entries to sample without replacement. Consider increasing your warm-up phase to avoid oversampling!')\n"
     ]
    },
    {
     "name": "stdout",
     "output_type": "stream",
     "text": [
      "  20/500: episode: 2, duration: 1.107s, episode steps: 10, steps per second: 9, episode reward: 5.000, mean reward: 0.500 [0.000, 1.000], mean action: 0.300 [0.000, 1.000], mean observation: 0.250 [0.000, 1.000], loss: 0.337917, mean_absolute_error: 0.408877, mean_q: 0.167197\n  30/500: episode: 3, duration: 0.101s, episode steps: 10, steps per second: 99, episode reward: 4.000, mean reward: 0.400 [0.000, 1.000], mean action: 0.600 [0.000, 1.000], mean observation: 0.600 [0.000, 1.000], loss: 0.263050, mean_absolute_error: 0.400221, mean_q: 0.241944\n  40/500: episode: 4, duration: 0.099s, episode steps: 10, steps per second: 101, episode reward: 9.000, mean reward: 0.900 [0.000, 1.000], mean action: 0.700 [0.000, 1.000], mean observation: 0.650 [0.000, 1.000], loss: 0.225481, mean_absolute_error: 0.415928, mean_q: 0.310252"
     ]
    },
    {
     "name": "stderr",
     "output_type": "stream",
     "text": [
      "D:\\Anaconda3\\lib\\site-packages\\rl\\memory.py:29: UserWarning: Not enough entries to sample without replacement. Consider increasing your warm-up phase to avoid oversampling!\n  warnings.warn('Not enough entries to sample without replacement. Consider increasing your warm-up phase to avoid oversampling!')\n"
     ]
    },
    {
     "name": "stdout",
     "output_type": "stream",
     "text": [
      "\n  50/500: episode: 5, duration: 0.105s, episode steps: 10, steps per second: 95, episode reward: 4.000, mean reward: 0.400 [0.000, 1.000], mean action: 0.700 [0.000, 1.000], mean observation: 0.700 [0.000, 1.000], loss: 0.199773, mean_absolute_error: 0.457749, mean_q: 0.446613\n  60/500: episode: 6, duration: 0.098s, episode steps: 10, steps per second: 102, episode reward: 7.000, mean reward: 0.700 [0.000, 1.000], mean action: 0.400 [0.000, 1.000], mean observation: 0.350 [0.000, 1.000], loss: 0.191278, mean_absolute_error: 0.489537, mean_q: 0.541736\n  70/500: episode: 7, duration: 0.097s, episode steps: 10, steps per second: 103, episode reward: 6.000, mean reward: 0.600 [0.000, 1.000], mean action: 0.400 [0.000, 1.000], mean observation: 0.400 [0.000, 1.000], loss: 0.174735, mean_absolute_error: 0.507318, mean_q: 0.619115\n"
     ]
    },
    {
     "name": "stdout",
     "output_type": "stream",
     "text": [
      "  80/500: episode: 8, duration: 0.107s, episode steps: 10, steps per second: 93, episode reward: 9.000, mean reward: 0.900 [0.000, 1.000], mean action: 0.300 [0.000, 1.000], mean observation: 0.250 [0.000, 1.000], loss: 0.175602, mean_absolute_error: 0.525114, mean_q: 0.647795\n  90/500: episode: 9, duration: 0.100s, episode steps: 10, steps per second: 100, episode reward: 6.000, mean reward: 0.600 [0.000, 1.000], mean action: 0.500 [0.000, 1.000], mean observation: 0.450 [0.000, 1.000], loss: 0.155098, mean_absolute_error: 0.538775, mean_q: 0.745204\n 100/500: episode: 10, duration: 0.095s, episode steps: 10, steps per second: 105, episode reward: 5.000, mean reward: 0.500 [0.000, 1.000], mean action: 0.700 [0.000, 1.000], mean observation: 0.700 [0.000, 1.000], loss: 0.139489, mean_absolute_error: 0.576457, mean_q: 0.818834\n"
     ]
    },
    {
     "name": "stdout",
     "output_type": "stream",
     "text": [
      " 110/500: episode: 11, duration: 0.105s, episode steps: 10, steps per second: 95, episode reward: 4.000, mean reward: 0.400 [0.000, 1.000], mean action: 0.400 [0.000, 1.000], mean observation: 0.400 [0.000, 1.000], loss: 0.134069, mean_absolute_error: 0.584335, mean_q: 0.839020\n 120/500: episode: 12, duration: 0.099s, episode steps: 10, steps per second: 101, episode reward: 5.000, mean reward: 0.500 [0.000, 1.000], mean action: 0.500 [0.000, 1.000], mean observation: 0.550 [0.000, 1.000], loss: 0.124601, mean_absolute_error: 0.614123, mean_q: 0.932788\n 130/500: episode: 13, duration: 0.096s, episode steps: 10, steps per second: 105, episode reward: 3.000, mean reward: 0.300 [0.000, 1.000], mean action: 0.700 [0.000, 1.000], mean observation: 0.700 [0.000, 1.000], loss: 0.121168, mean_absolute_error: 0.650771, mean_q: 0.981786\n"
     ]
    },
    {
     "name": "stdout",
     "output_type": "stream",
     "text": [
      " 140/500: episode: 14, duration: 0.102s, episode steps: 10, steps per second: 98, episode reward: 7.000, mean reward: 0.700 [0.000, 1.000], mean action: 0.700 [0.000, 1.000], mean observation: 0.700 [0.000, 1.000], loss: 0.108065, mean_absolute_error: 0.639395, mean_q: 1.031867\n 150/500: episode: 15, duration: 0.095s, episode steps: 10, steps per second: 106, episode reward: 8.000, mean reward: 0.800 [0.000, 1.000], mean action: 0.700 [0.000, 1.000], mean observation: 0.650 [0.000, 1.000], loss: 0.088837, mean_absolute_error: 0.650921, mean_q: 1.113602\n 160/500: episode: 16, duration: 0.095s, episode steps: 10, steps per second: 106, episode reward: 7.000, mean reward: 0.700 [0.000, 1.000], mean action: 0.600 [0.000, 1.000], mean observation: 0.650 [0.000, 1.000], loss: 0.086388, mean_absolute_error: 0.672477, mean_q: 1.199000\n"
     ]
    },
    {
     "name": "stdout",
     "output_type": "stream",
     "text": [
      " 170/500: episode: 17, duration: 0.108s, episode steps: 10, steps per second: 92, episode reward: 5.000, mean reward: 0.500 [0.000, 1.000], mean action: 0.600 [0.000, 1.000], mean observation: 0.550 [0.000, 1.000], loss: 0.078254, mean_absolute_error: 0.699682, mean_q: 1.314943\n 180/500: episode: 18, duration: 0.101s, episode steps: 10, steps per second: 99, episode reward: 6.000, mean reward: 0.600 [0.000, 1.000], mean action: 0.500 [0.000, 1.000], mean observation: 0.450 [0.000, 1.000], loss: 0.087805, mean_absolute_error: 0.721596, mean_q: 1.377077\n 190/500: episode: 19, duration: 0.098s, episode steps: 10, steps per second: 102, episode reward: 6.000, mean reward: 0.600 [0.000, 1.000], mean action: 0.600 [0.000, 1.000], mean observation: 0.650 [0.000, 1.000], loss: 0.080740, mean_absolute_error: 0.720896, mean_q: 1.444887"
     ]
    },
    {
     "name": "stdout",
     "output_type": "stream",
     "text": [
      "\n 200/500: episode: 20, duration: 0.100s, episode steps: 10, steps per second: 100, episode reward: 7.000, mean reward: 0.700 [0.000, 1.000], mean action: 0.400 [0.000, 1.000], mean observation: 0.400 [0.000, 1.000], loss: 0.077798, mean_absolute_error: 0.737388, mean_q: 1.521979\n 210/500: episode: 21, duration: 0.110s, episode steps: 10, steps per second: 91, episode reward: 4.000, mean reward: 0.400 [0.000, 1.000], mean action: 0.400 [0.000, 1.000], mean observation: 0.400 [0.000, 1.000], loss: 0.073368, mean_absolute_error: 0.776878, mean_q: 1.615908\n"
     ]
    },
    {
     "name": "stdout",
     "output_type": "stream",
     "text": [
      " 220/500: episode: 22, duration: 0.100s, episode steps: 10, steps per second: 100, episode reward: 6.000, mean reward: 0.600 [0.000, 1.000], mean action: 0.600 [0.000, 1.000], mean observation: 0.650 [0.000, 1.000], loss: 0.068221, mean_absolute_error: 0.799127, mean_q: 1.705293\n 230/500: episode: 23, duration: 0.096s, episode steps: 10, steps per second: 104, episode reward: 10.000, mean reward: 1.000 [1.000, 1.000], mean action: 0.700 [0.000, 1.000], mean observation: 0.700 [0.000, 1.000], loss: 0.088004, mean_absolute_error: 0.840753, mean_q: 1.809823\n 240/500: episode: 24, duration: 0.098s, episode steps: 10, steps per second: 102, episode reward: 8.000, mean reward: 0.800 [0.000, 1.000], mean action: 0.600 [0.000, 1.000], mean observation: 0.600 [0.000, 1.000], loss: 0.082048, mean_absolute_error: 0.827027, mean_q: 1.846254\n"
     ]
    },
    {
     "name": "stdout",
     "output_type": "stream",
     "text": [
      " 250/500: episode: 25, duration: 0.113s, episode steps: 10, steps per second: 89, episode reward: 8.000, mean reward: 0.800 [0.000, 1.000], mean action: 0.500 [0.000, 1.000], mean observation: 0.500 [0.000, 1.000], loss: 0.071997, mean_absolute_error: 0.859212, mean_q: 1.953596\n 260/500: episode: 26, duration: 0.102s, episode steps: 10, steps per second: 98, episode reward: 5.000, mean reward: 0.500 [0.000, 1.000], mean action: 0.300 [0.000, 1.000], mean observation: 0.300 [0.000, 1.000], loss: 0.087864, mean_absolute_error: 0.908066, mean_q: 2.037089\n 270/500: episode: 27, duration: 0.098s, episode steps: 10, steps per second: 102, episode reward: 6.000, mean reward: 0.600 [0.000, 1.000], mean action: 0.700 [0.000, 1.000], mean observation: 0.650 [0.000, 1.000], loss: 0.052256, mean_absolute_error: 0.895177, mean_q: 2.133923"
     ]
    },
    {
     "name": "stdout",
     "output_type": "stream",
     "text": [
      "\n 280/500: episode: 28, duration: 0.111s, episode steps: 10, steps per second: 90, episode reward: 9.000, mean reward: 0.900 [0.000, 1.000], mean action: 0.200 [0.000, 1.000], mean observation: 0.250 [0.000, 1.000], loss: 0.100134, mean_absolute_error: 0.978426, mean_q: 2.226198\n 290/500: episode: 29, duration: 0.099s, episode steps: 10, steps per second: 101, episode reward: 5.000, mean reward: 0.500 [0.000, 1.000], mean action: 0.500 [0.000, 1.000], mean observation: 0.550 [0.000, 1.000], loss: 0.104527, mean_absolute_error: 0.988657, mean_q: 2.199039\n 300/500: episode: 30, duration: 0.099s, episode steps: 10, steps per second: 101, episode reward: 5.000, mean reward: 0.500 [0.000, 1.000], mean action: 0.500 [0.000, 1.000], mean observation: 0.550 [0.000, 1.000], loss: 0.118772, mean_absolute_error: 1.033763, mean_q: 2.327578\n"
     ]
    },
    {
     "name": "stdout",
     "output_type": "stream",
     "text": [
      " 310/500: episode: 31, duration: 0.112s, episode steps: 10, steps per second: 89, episode reward: 10.000, mean reward: 1.000 [1.000, 1.000], mean action: 0.700 [0.000, 1.000], mean observation: 0.650 [0.000, 1.000], loss: 0.137312, mean_absolute_error: 1.100361, mean_q: 2.412626\n 320/500: episode: 32, duration: 0.088s, episode steps: 10, steps per second: 113, episode reward: 7.000, mean reward: 0.700 [0.000, 1.000], mean action: 0.600 [0.000, 1.000], mean observation: 0.600 [0.000, 1.000], loss: 0.150201, mean_absolute_error: 1.138124, mean_q: 2.456976\n 330/500: episode: 33, duration: 0.095s, episode steps: 10, steps per second: 105, episode reward: 5.000, mean reward: 0.500 [0.000, 1.000], mean action: 0.600 [0.000, 1.000], mean observation: 0.600 [0.000, 1.000], loss: 0.139134, mean_absolute_error: 1.126259, mean_q: 2.500190\n"
     ]
    },
    {
     "name": "stdout",
     "output_type": "stream",
     "text": [
      " 340/500: episode: 34, duration: 0.102s, episode steps: 10, steps per second: 98, episode reward: 6.000, mean reward: 0.600 [0.000, 1.000], mean action: 0.600 [0.000, 1.000], mean observation: 0.600 [0.000, 1.000], loss: 0.205035, mean_absolute_error: 1.210470, mean_q: 2.621015\n 350/500: episode: 35, duration: 0.091s, episode steps: 10, steps per second: 110, episode reward: 7.000, mean reward: 0.700 [0.000, 1.000], mean action: 0.700 [0.000, 1.000], mean observation: 0.750 [0.000, 1.000], loss: 0.203854, mean_absolute_error: 1.217808, mean_q: 2.653921\n 360/500: episode: 36, duration: 0.096s, episode steps: 10, steps per second: 104, episode reward: 8.000, mean reward: 0.800 [0.000, 1.000], mean action: 0.300 [0.000, 1.000], mean observation: 0.250 [0.000, 1.000], loss: 0.182369, mean_absolute_error: 1.225339, mean_q: 2.756103\n"
     ]
    },
    {
     "name": "stdout",
     "output_type": "stream",
     "text": [
      " 370/500: episode: 37, duration: 0.110s, episode steps: 10, steps per second: 91, episode reward: 6.000, mean reward: 0.600 [0.000, 1.000], mean action: 0.400 [0.000, 1.000], mean observation: 0.400 [0.000, 1.000], loss: 0.184554, mean_absolute_error: 1.280071, mean_q: 2.887839\n 380/500: episode: 38, duration: 0.087s, episode steps: 10, steps per second: 115, episode reward: 8.000, mean reward: 0.800 [0.000, 1.000], mean action: 0.700 [0.000, 1.000], mean observation: 0.700 [0.000, 1.000], loss: 0.166971, mean_absolute_error: 1.310342, mean_q: 2.889965\n 390/500: episode: 39, duration: 0.086s, episode steps: 10, steps per second: 116, episode reward: 8.000, mean reward: 0.800 [0.000, 1.000], mean action: 0.600 [0.000, 1.000], mean observation: 0.600 [0.000, 1.000], loss: 0.294916, mean_absolute_error: 1.424397, mean_q: 3.014135\n"
     ]
    },
    {
     "name": "stdout",
     "output_type": "stream",
     "text": [
      " 400/500: episode: 40, duration: 0.098s, episode steps: 10, steps per second: 102, episode reward: 8.000, mean reward: 0.800 [0.000, 1.000], mean action: 0.600 [0.000, 1.000], mean observation: 0.600 [0.000, 1.000], loss: 0.278308, mean_absolute_error: 1.424289, mean_q: 3.016028\n 410/500: episode: 41, duration: 0.090s, episode steps: 10, steps per second: 111, episode reward: 7.000, mean reward: 0.700 [0.000, 1.000], mean action: 0.700 [0.000, 1.000], mean observation: 0.750 [0.000, 1.000], loss: 0.233476, mean_absolute_error: 1.408067, mean_q: 3.085822\n 420/500: episode: 42, duration: 0.090s, episode steps: 10, steps per second: 112, episode reward: 7.000, mean reward: 0.700 [0.000, 1.000], mean action: 0.500 [0.000, 1.000], mean observation: 0.550 [0.000, 1.000], loss: 0.304183, mean_absolute_error: 1.493122, mean_q: 3.215440\n"
     ]
    },
    {
     "name": "stdout",
     "output_type": "stream",
     "text": [
      " 430/500: episode: 43, duration: 0.099s, episode steps: 10, steps per second: 101, episode reward: 6.000, mean reward: 0.600 [0.000, 1.000], mean action: 0.600 [0.000, 1.000], mean observation: 0.550 [0.000, 1.000], loss: 0.276547, mean_absolute_error: 1.481874, mean_q: 3.207118\n 440/500: episode: 44, duration: 0.091s, episode steps: 10, steps per second: 110, episode reward: 4.000, mean reward: 0.400 [0.000, 1.000], mean action: 0.400 [0.000, 1.000], mean observation: 0.400 [0.000, 1.000], loss: 0.322279, mean_absolute_error: 1.571972, mean_q: 3.300253\n 450/500: episode: 45, duration: 0.090s, episode steps: 10, steps per second: 111, episode reward: 8.000, mean reward: 0.800 [0.000, 1.000], mean action: 0.600 [0.000, 1.000], mean observation: 0.600 [0.000, 1.000], loss: 0.294751, mean_absolute_error: 1.568468, mean_q: 3.340798\n"
     ]
    },
    {
     "name": "stdout",
     "output_type": "stream",
     "text": [
      " 460/500: episode: 46, duration: 0.095s, episode steps: 10, steps per second: 105, episode reward: 7.000, mean reward: 0.700 [0.000, 1.000], mean action: 0.800 [0.000, 1.000], mean observation: 0.750 [0.000, 1.000], loss: 0.280441, mean_absolute_error: 1.613695, mean_q: 3.461193\n 470/500: episode: 47, duration: 0.086s, episode steps: 10, steps per second: 116, episode reward: 9.000, mean reward: 0.900 [0.000, 1.000], mean action: 0.700 [0.000, 1.000], mean observation: 0.700 [0.000, 1.000], loss: 0.428859, mean_absolute_error: 1.684250, mean_q: 3.494181\n 480/500: episode: 48, duration: 0.083s, episode steps: 10, steps per second: 120, episode reward: 7.000, mean reward: 0.700 [0.000, 1.000], mean action: 0.700 [0.000, 1.000], mean observation: 0.750 [0.000, 1.000], loss: 0.331430, mean_absolute_error: 1.686467, mean_q: 3.506333\n"
     ]
    },
    {
     "name": "stdout",
     "output_type": "stream",
     "text": [
      " 490/500: episode: 49, duration: 0.098s, episode steps: 10, steps per second: 103, episode reward: 7.000, mean reward: 0.700 [0.000, 1.000], mean action: 0.600 [0.000, 1.000], mean observation: 0.600 [0.000, 1.000], loss: 0.395121, mean_absolute_error: 1.743760, mean_q: 3.640089\n 500/500: episode: 50, duration: 0.090s, episode steps: 10, steps per second: 111, episode reward: 10.000, mean reward: 1.000 [1.000, 1.000], mean action: 0.600 [0.000, 1.000], mean observation: 0.650 [0.000, 1.000], loss: 0.321413, mean_absolute_error: 1.753417, mean_q: 3.748550\ndone, took 5.984 seconds\n"
     ]
    },
    {
     "data": {
      "text/plain": [
       "<keras.callbacks.History at 0x25d88e00e10>"
      ]
     },
     "execution_count": 85,
     "metadata": {},
     "output_type": "execute_result"
    }
   ],
   "source": [
    "dqn.fit(env, nb_steps=500, visualize=False, verbose=2)"
   ]
  },
  {
   "cell_type": "code",
   "execution_count": 86,
   "metadata": {},
   "outputs": [
    {
     "name": "stdout",
     "output_type": "stream",
     "text": [
      "Testing for 1 episodes ...\n[1, 0, 1]\n[1, 0, 1, 1]\n[1, 0, 1, 1, 0]\n[1, 0, 1, 1, 0, 1]\n[1, 0, 1, 1, 0, 1, 1]\n[1, 0, 1, 1, 0, 1, 1, 0]\n[1, 0, 1, 1, 0, 1, 1, 0, 1]\n[1, 0, 1, 1, 0, 1, 1, 0, 1, 1]\n[1, 0, 1, 1, 0, 1, 1, 0, 1, 1, 0]\n[1, 0, 1, 1, 0, 1, 1, 0, 1, 1, 0, 1]\nEpisode 1: reward: 10.000, steps: 10\n[1, 0, 1, 1, 0, 1, 1, 0, 1, 1, 0, 1]\n"
     ]
    }
   ],
   "source": [
    "env.reset()\n",
    "dqn.test(env)\n",
    "print(env.state_list)"
   ]
  },
  {
   "cell_type": "code",
   "execution_count": 64,
   "metadata": {},
   "outputs": [
    {
     "data": {
      "text/plain": [
       "array([1, 1])"
      ]
     },
     "execution_count": 64,
     "metadata": {},
     "output_type": "execute_result"
    }
   ],
   "source": [
    "env.reset()"
   ]
  },
  {
   "cell_type": "code",
   "execution_count": 73,
   "metadata": {
    "collapsed": false
   },
   "outputs": [
    {
     "data": {
      "text/plain": [
       "1"
      ]
     },
     "execution_count": 73,
     "metadata": {},
     "output_type": "execute_result"
    }
   ],
   "source": [
    "np.argmax(model.predict(env.state.reshape(1, 1, 2)))"
   ]
  },
  {
   "cell_type": "code",
   "execution_count": 72,
   "metadata": {},
   "outputs": [
    {
     "data": {
      "text/plain": [
       "(array([1, 0]), 1, False, {})"
      ]
     },
     "execution_count": 72,
     "metadata": {},
     "output_type": "execute_result"
    }
   ],
   "source": [
    "env.step(0)"
   ]
  },
  {
   "cell_type": "code",
   "execution_count": 53,
   "metadata": {},
   "outputs": [
    {
     "data": {
      "text/plain": [
       "<tf.Tensor 'flatten_2_input:0' shape=(?, 1, 2) dtype=float32>"
      ]
     },
     "execution_count": 53,
     "metadata": {},
     "output_type": "execute_result"
    }
   ],
   "source": [
    "model.get_layer(index=0).input"
   ]
  },
  {
   "cell_type": "code",
   "execution_count": 87,
   "metadata": {
    "collapsed": true
   },
   "outputs": [
    {
     "name": "stdout",
     "output_type": "stream",
     "text": [
      "Testing for 2 episodes ...\n[1, 0, 1]\n[1, 0, 1, 1]\n[1, 0, 1, 1, 0]\n[1, 0, 1, 1, 0, 1]\n[1, 0, 1, 1, 0, 1, 1]\n[1, 0, 1, 1, 0, 1, 1, 0]\n[1, 0, 1, 1, 0, 1, 1, 0, 1]\n[1, 0, 1, 1, 0, 1, 1, 0, 1, 1]\n[1, 0, 1, 1, 0, 1, 1, 0, 1, 1, 0]\n[1, 0, 1, 1, 0, 1, 1, 0, 1, 1, 0, 1]\nEpisode 1: reward: 10.000, steps: 10\n[1, 0, 1]\n[1, 0, 1, 1]\n[1, 0, 1, 1, 0]\n[1, 0, 1, 1, 0, 1]\n[1, 0, 1, 1, 0, 1, 1]\n[1, 0, 1, 1, 0, 1, 1, 0]\n[1, 0, 1, 1, 0, 1, 1, 0, 1]\n[1, 0, 1, 1, 0, 1, 1, 0, 1, 1]\n[1, 0, 1, 1, 0, 1, 1, 0, 1, 1, 0]\n[1, 0, 1, 1, 0, 1, 1, 0, 1, 1, 0, 1]\nEpisode 2: reward: 10.000, steps: 10\n"
     ]
    },
    {
     "data": {
      "text/plain": [
       "<keras.callbacks.History at 0x25d88e008d0>"
      ]
     },
     "execution_count": 87,
     "metadata": {},
     "output_type": "execute_result"
    }
   ],
   "source": [
    "dqn.test(env, 2, visualize=True)"
   ]
  }
 ],
 "metadata": {
  "kernelspec": {
   "display_name": "Python 2",
   "language": "python",
   "name": "python2"
  },
  "language_info": {
   "codemirror_mode": {
    "name": "ipython",
    "version": 2.0
   },
   "file_extension": ".py",
   "mimetype": "text/x-python",
   "name": "python",
   "nbconvert_exporter": "python",
   "pygments_lexer": "ipython2",
   "version": "2.7.6"
  }
 },
 "nbformat": 4,
 "nbformat_minor": 0
}