{
 "cells": [
  {
   "cell_type": "code",
   "execution_count": 2,
   "metadata": {
    "collapsed": true
   },
   "outputs": [],
   "source": [
    "from pathlib2 import Path"
   ]
  },
  {
   "cell_type": "code",
   "execution_count": 42,
   "metadata": {
    "collapsed": true
   },
   "outputs": [],
   "source": [
    "p = Path('f:/')"
   ]
  },
  {
   "cell_type": "code",
   "execution_count": 43,
   "metadata": {
    "collapsed": true
   },
   "outputs": [],
   "source": [
    "p = p / 'ZY'"
   ]
  },
  {
   "cell_type": "code",
   "execution_count": 1,
   "metadata": {
    "collapsed": true
   },
   "outputs": [],
   "source": [
    "from astropy import units as u"
   ]
  },
  {
   "cell_type": "code",
   "execution_count": 33,
   "metadata": {},
   "outputs": [
    {
     "ename": "AttributeError",
     "evalue": "module 'astropy.units' has no attribute 'U'",
     "output_type": "error",
     "traceback": [
      "\u001b[1;31m---------------------------------------------------------------------------\u001b[0m",
      "\u001b[1;31mAttributeError\u001b[0m                            Traceback (most recent call last)",
      "\u001b[1;32m<ipython-input-33-799976a7ff67>\u001b[0m in \u001b[0;36m<module>\u001b[1;34m()\u001b[0m\n\u001b[1;32m----> 1\u001b[1;33m \u001b[0mu\u001b[0m\u001b[1;33m.\u001b[0m\u001b[0mU\u001b[0m\u001b[1;33m.\u001b[0m\u001b[0mrepresents\u001b[0m\u001b[1;33m\u001b[0m\u001b[0m\n\u001b[0m",
      "\u001b[1;31mAttributeError\u001b[0m: module 'astropy.units' has no attribute 'U'"
     ]
    }
   ],
   "source": [
    "u.t.represents"
   ]
  },
  {
   "cell_type": "code",
   "execution_count": 41,
   "metadata": {},
   "outputs": [
    {
     "data": {
      "text/latex": [
       "$3.6 \\; \\mathrm{\\frac{km}{h}}$"
      ],
      "text/plain": [
       "<Quantity 3.5999999999999996 km / h>"
      ]
     },
     "execution_count": 41,
     "metadata": {},
     "output_type": "execute_result"
    }
   ],
   "source": [
    "(1*u.m/u.s).to(u.km/u.h)"
   ]
  },
  {
   "cell_type": "code",
   "execution_count": 47,
   "metadata": {
    "collapsed": true
   },
   "outputs": [
    {
     "data": {
      "text/plain": [
       "[WindowsPath('f:/ZY/156284807298945718.png'),\n",
       " WindowsPath('f:/ZY/156284807298945718_1.png'),\n",
       " WindowsPath('f:/ZY/156284807298945718_2.png'),\n",
       " WindowsPath('f:/ZY/451963427470971965.png'),\n",
       " WindowsPath('f:/ZY/K black box.png'),\n",
       " WindowsPath('f:/ZY/kami.png'),\n",
       " WindowsPath('f:/ZY/kami2.png'),\n",
       " WindowsPath('f:/ZY/random.png'),\n",
       " WindowsPath('f:/ZY/seal (1).png'),\n",
       " WindowsPath('f:/ZY/seal (2).png'),\n",
       " WindowsPath('f:/ZY/seal (3).png'),\n",
       " WindowsPath('f:/ZY/seal.png'),\n",
       " WindowsPath('f:/ZY/small.png'),\n",
       " WindowsPath('f:/ZY/stop.png'),\n",
       " WindowsPath('f:/ZY/【Android】视觉规范part2.png'),\n",
       " WindowsPath('f:/ZY/bak/mx4pro/Pictures/佐仓千代/20150108213409_zEyyj.png'),\n",
       " WindowsPath('f:/ZY/OneDrive/图片/屏幕快照/2016-05-19 (1).png'),\n",
       " WindowsPath('f:/ZY/OneDrive/图片/屏幕快照/2016-05-19 (2).png'),\n",
       " WindowsPath('f:/ZY/OneDrive/图片/屏幕快照/2016-05-19 (3).png'),\n",
       " WindowsPath('f:/ZY/OneDrive/图片/屏幕快照/2016-05-19.png'),\n",
       " WindowsPath('f:/ZY/test/0.png'),\n",
       " WindowsPath('f:/ZY/test/img/0.png'),\n",
       " WindowsPath('f:/ZY/test/img/0_small.png'),\n",
       " WindowsPath('f:/ZY/图包/君の名は/id=58734221(富士フジノ).png'),\n",
       " WindowsPath('f:/ZY/图包/君の名は/id=58762532(ムク).png'),\n",
       " WindowsPath('f:/ZY/图包/君の名は/id=58771387(テルディード).png'),\n",
       " WindowsPath('f:/ZY/图包/君の名は/id=58782604(Sato3).png'),\n",
       " WindowsPath('f:/ZY/图包/君の名は/id=58854202(也火).png'),\n",
       " WindowsPath('f:/ZY/图包/君の名は/id=58854385(のすけ noske2801).png'),\n",
       " WindowsPath('f:/ZY/图包/君の名は/id=58855558(まつだひかり).png'),\n",
       " WindowsPath('f:/ZY/图包/君の名は/id=58888280(空熊).png'),\n",
       " WindowsPath('f:/ZY/图包/君の名は/id=58898400(茨乃).png'),\n",
       " WindowsPath('f:/ZY/图包/君の名は/id=58914470(氷月 藍狐).png'),\n",
       " WindowsPath('f:/ZY/图包/君の名は/id=58915924(sunday-offline).png'),\n",
       " WindowsPath('f:/ZY/图包/君の名は/id=58917609(エゾシカ).png'),\n",
       " WindowsPath('f:/ZY/图包/君の名は/id=59007523(上杉绘梨衣).png'),\n",
       " WindowsPath('f:/ZY/图包/君の名は/id=59016909(桜ひより).png'),\n",
       " WindowsPath('f:/ZY/图包/君の名は/id=59034209(sunday-offline).png'),\n",
       " WindowsPath('f:/ZY/图包/君の名は/id=59047170(鋼壱).png'),\n",
       " WindowsPath('f:/ZY/图包/君の名は/id=59099940(空坊主).png'),\n",
       " WindowsPath('f:/ZY/图包/君の名は/id=59134897(Yuuri).png'),\n",
       " WindowsPath('f:/ZY/图包/君の名は/id=59151227(sunday-offline).png'),\n",
       " WindowsPath('f:/ZY/图包/君の名は/id=59327498(黒枝).png'),\n",
       " WindowsPath('f:/ZY/图包/君の名は/id=59345668(wingheart).png'),\n",
       " WindowsPath('f:/ZY/图包/君の名は/id=59947939(カット).png'),\n",
       " WindowsPath('f:/ZY/图包/君の名は/id=60025036(Gれ).png'),\n",
       " WindowsPath('f:/ZY/网易设计规范文档下载/网易设计规范文档下载/LOFTER/V1.0/+01_色彩规范G.png'),\n",
       " WindowsPath('f:/ZY/网易设计规范文档下载/网易设计规范文档下载/LOFTER/V1.0/+02_图标规范.png'),\n",
       " WindowsPath('f:/ZY/网易设计规范文档下载/网易设计规范文档下载/LOFTER/V1.0/+03_按扭规范.png'),\n",
       " WindowsPath('f:/ZY/网易设计规范文档下载/网易设计规范文档下载/LOFTER/V1.0/+04_排版规范.png')]"
      ]
     },
     "execution_count": 47,
     "metadata": {},
     "output_type": "execute_result"
    }
   ],
   "source": [
    "list(p.glob('**/*.png'))"
   ]
  },
  {
   "cell_type": "code",
   "execution_count": 48,
   "metadata": {
    "collapsed": true
   },
   "outputs": [],
   "source": [
    "a = [1,2,3]\n",
    "b = [3,4,5]"
   ]
  },
  {
   "cell_type": "code",
   "execution_count": 52,
   "metadata": {},
   "outputs": [
    {
     "data": {
      "text/plain": [
       "[1, 2, 3, 3, 4, 5]"
      ]
     },
     "execution_count": 52,
     "metadata": {},
     "output_type": "execute_result"
    }
   ],
   "source": [
    "[*a, *b]"
   ]
  },
  {
   "cell_type": "code",
   "execution_count": 54,
   "metadata": {},
   "outputs": [
    {
     "name": "stdout",
     "output_type": "stream",
     "text": [
      "sum of [1, 2, 3] is 6\n"
     ]
    }
   ],
   "source": [
    "print(f'sum of {a} is {np.sum(a)}')"
   ]
  }
 ],
 "metadata": {
  "kernelspec": {
   "display_name": "Python 3",
   "language": "python",
   "name": "python3"
  },
  "language_info": {
   "codemirror_mode": {
    "name": "ipython",
    "version": 3
   },
   "file_extension": ".py",
   "mimetype": "text/x-python",
   "name": "python",
   "nbconvert_exporter": "python",
   "pygments_lexer": "ipython3",
   "version": "3.6.1"
  }
 },
 "nbformat": 4,
 "nbformat_minor": 2
}
