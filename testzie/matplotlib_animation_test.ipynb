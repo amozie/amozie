{
 "cells": [
  {
   "cell_type": "code",
   "execution_count": 1,
   "metadata": {
    "collapsed": true
   },
   "outputs": [],
   "source": [
    "import numpy as np\n",
    "import pandas as pd\n",
    "import itertools\n",
    "import matplotlib.pyplot as plt\n",
    "%matplotlib qt5"
   ]
  },
  {
   "cell_type": "code",
   "execution_count": 2,
   "metadata": {
    "collapsed": true
   },
   "outputs": [],
   "source": [
    "from matplotlib import animation"
   ]
  },
  {
   "cell_type": "code",
   "execution_count": 5,
   "metadata": {
    "collapsed": true
   },
   "outputs": [],
   "source": [
    "fig = plt.figure()\n",
    "axes1 = fig.add_subplot(111)\n",
    "line, = axes1.plot(np.random.rand(10))\n",
    "#因为update的参数是调用函数data_gen,\n",
    "#所以第一个默认参数不能是framenum\n",
    "def update(data, *args):\n",
    "    l = args[0]\n",
    "    l[0] -= 1\n",
    "    if l[0] < 0:\n",
    "        plt.close()\n",
    "    axes1.set_title(l[0])\n",
    "    line.set_ydata(data)\n",
    "# 每次生成10个随机数据 \n",
    "def data_gen():\n",
    "    while True:\n",
    "        yield np.random.rand(10)\n",
    "ani = animation.FuncAnimation(fig, update, data_gen, fargs=([10],), interval=500)\n",
    "plt.show()"
   ]
  },
  {
   "cell_type": "code",
   "execution_count": 36,
   "metadata": {
    "collapsed": true
   },
   "outputs": [],
   "source": [
    "fig = plt.figure(figsize=(8, 8))\n",
    "ax = plt.subplot(111)\n",
    "ax.set_xlim(0, 1)\n",
    "ax.set_ylim(0, 1)\n",
    "line, = ax.plot([0,1])\n",
    "def update(data, *args):\n",
    "    xs = args[0]\n",
    "    ys = args[1]\n",
    "    xs.append(data[0])\n",
    "    ys.append(data[1])\n",
    "    line.set_data(xs, ys)\n",
    "    ax.scatter(data[0], data[1], c='r', marker='x')\n",
    "def data_gen():\n",
    "    while True:\n",
    "        yield np.random.rand(2)\n",
    "ani = animation.FuncAnimation(fig, update, data_gen, fargs=([0], [0]), interval=1000)\n",
    "plt.show()"
   ]
  },
  {
   "cell_type": "code",
   "execution_count": 13,
   "metadata": {
    "collapsed": true
   },
   "outputs": [],
   "source": [
    "plt.close()"
   ]
  },
  {
   "cell_type": "code",
   "execution_count": 69,
   "metadata": {},
   "outputs": [],
   "source": [
    "fig = plt.figure(figsize=(8, 8))\n",
    "ax = plt.subplot(111)\n",
    "ax.set_xlim(0, 1)\n",
    "ax.set_ylim(0, 1)\n",
    "px, py = np.meshgrid(np.linspace(0, 1), np.linspace(0, 1))\n",
    "pz = px+py\n",
    "im = ax.contourf(px, py, pz)\n",
    "\n",
    "def update(data, *args):\n",
    "    px = args[0]\n",
    "    py = args[1]\n",
    "    im.set_array(px*py)\n",
    "    ax.scatter(data[0], data[1], c='r', marker='x')\n",
    "def data_gen():\n",
    "    while True:\n",
    "        yield np.random.rand(2)\n",
    "ani = animation.FuncAnimation(fig, update, data_gen, fargs=(px, py), interval=1000)\n",
    "plt.show()"
   ]
  },
  {
   "cell_type": "code",
   "execution_count": 43,
   "metadata": {},
   "outputs": [
    {
     "data": {
      "text/plain": [
       "array([[0.        , 0.02040816, 0.04081633, ..., 0.95918367, 0.97959184,\n",
       "        1.        ],\n",
       "       [0.04081633, 0.06122449, 0.08163265, ..., 1.        , 1.02040816,\n",
       "        1.04081633],\n",
       "       [0.08163265, 0.10204082, 0.12244898, ..., 1.04081633, 1.06122449,\n",
       "        1.08163265],\n",
       "       ...,\n",
       "       [1.91836735, 1.93877551, 1.95918367, ..., 2.87755102, 2.89795918,\n",
       "        2.91836735],\n",
       "       [1.95918367, 1.97959184, 2.        , ..., 2.91836735, 2.93877551,\n",
       "        2.95918367],\n",
       "       [2.        , 2.02040816, 2.04081633, ..., 2.95918367, 2.97959184,\n",
       "        3.        ]])"
      ]
     },
     "execution_count": 43,
     "metadata": {},
     "output_type": "execute_result"
    }
   ],
   "source": [
    "pz"
   ]
  }
 ],
 "metadata": {
  "kernelspec": {
   "display_name": "Python 3",
   "language": "python",
   "name": "python3"
  },
  "language_info": {
   "codemirror_mode": {
    "name": "ipython",
    "version": 3
   },
   "file_extension": ".py",
   "mimetype": "text/x-python",
   "name": "python",
   "nbconvert_exporter": "python",
   "pygments_lexer": "ipython3",
   "version": "3.6.1"
  },
  "toc": {
   "nav_menu": {},
   "number_sections": true,
   "sideBar": true,
   "skip_h1_title": false,
   "title_cell": "Table of Contents",
   "title_sidebar": "Contents",
   "toc_cell": false,
   "toc_position": {},
   "toc_section_display": true,
   "toc_window_display": false
  },
  "varInspector": {
   "cols": {
    "lenName": 16,
    "lenType": 16,
    "lenVar": 40
   },
   "kernels_config": {
    "python": {
     "delete_cmd_postfix": "",
     "delete_cmd_prefix": "del ",
     "library": "var_list.py",
     "varRefreshCmd": "print(var_dic_list())"
    },
    "r": {
     "delete_cmd_postfix": ") ",
     "delete_cmd_prefix": "rm(",
     "library": "var_list.r",
     "varRefreshCmd": "cat(var_dic_list()) "
    }
   },
   "types_to_exclude": [
    "module",
    "function",
    "builtin_function_or_method",
    "instance",
    "_Feature"
   ],
   "window_display": false
  }
 },
 "nbformat": 4,
 "nbformat_minor": 2
}
