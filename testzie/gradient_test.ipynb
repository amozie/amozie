{
 "cells": [
  {
   "cell_type": "code",
   "execution_count": 2,
   "metadata": {
    "collapsed": true
   },
   "outputs": [],
   "source": [
    "import tensorflow as tf\n",
    "import tensorflow.contrib.eager as tfe\n",
    "import time"
   ]
  },
  {
   "cell_type": "code",
   "execution_count": 3,
   "metadata": {
    "collapsed": true
   },
   "outputs": [],
   "source": [
    "tfe.enable_eager_execution()"
   ]
  },
  {
   "cell_type": "code",
   "execution_count": 39,
   "metadata": {
    "collapsed": true
   },
   "outputs": [],
   "source": [
    "X = np.random.rand(1000, 3)\n",
    "theta = np.array([2, 3, 4]).reshape(3, 1)\n",
    "y = X @ theta\n",
    "y_err = y + 1 + np.random.randn(1000, 1)"
   ]
  },
  {
   "cell_type": "code",
   "execution_count": 40,
   "metadata": {
    "collapsed": true
   },
   "outputs": [],
   "source": [
    "w = tf.get_variable(name='w', shape=(3, 1), dtype=tf.double)\n",
    "b = tf.get_variable(name='b', shape=(1, ), dtype=tf.double)"
   ]
  },
  {
   "cell_type": "code",
   "execution_count": 41,
   "metadata": {
    "collapsed": true
   },
   "outputs": [],
   "source": [
    "@tfe.implicit_value_and_gradients\n",
    "def foo(x, y):\n",
    "    return tf.losses.mean_squared_error(y, tf.matmul(x, w) + b)"
   ]
  },
  {
   "cell_type": "code",
   "execution_count": 42,
   "metadata": {
    "collapsed": true
   },
   "outputs": [],
   "source": [
    "optimizer = tf.train.GradientDescentOptimizer(0.1)"
   ]
  },
  {
   "cell_type": "code",
   "execution_count": 43,
   "metadata": {
    "collapsed": true
   },
   "outputs": [],
   "source": [
    "ds = tf.data.Dataset.from_tensor_slices((X, y_err)).shuffle(1000).batch(50)"
   ]
  },
  {
   "cell_type": "code",
   "execution_count": 44,
   "metadata": {},
   "outputs": [
    {
     "name": "stdout",
     "output_type": "stream",
     "text": [
      "epoch: 19; loss: 0.9992729425430298\n",
      "1.4609959125518799\n"
     ]
    }
   ],
   "source": [
    "begin = time.time()\n",
    "for epoch in range(20):\n",
    "    for step, (x, y) in enumerate(tfe.Iterator(ds)):\n",
    "        loss, grad = foo(x, y)\n",
    "        optimizer.apply_gradients(grad)\n",
    "#         print(f'step:{step}; loss:{loss.numpy()}')\n",
    "    else:\n",
    "        if epoch == 19:\n",
    "            loss, grad = foo(X, y_err)\n",
    "            print(f'epoch: {epoch}; loss: {loss.numpy()}')\n",
    "end = time.time()\n",
    "print(end - begin)"
   ]
  }
 ],
 "metadata": {
  "kernelspec": {
   "display_name": "Python 3",
   "language": "python",
   "name": "python3"
  },
  "language_info": {
   "codemirror_mode": {
    "name": "ipython",
    "version": 3
   },
   "file_extension": ".py",
   "mimetype": "text/x-python",
   "name": "python",
   "nbconvert_exporter": "python",
   "pygments_lexer": "ipython3",
   "version": "3.6.1"
  }
 },
 "nbformat": 4,
 "nbformat_minor": 1
}
