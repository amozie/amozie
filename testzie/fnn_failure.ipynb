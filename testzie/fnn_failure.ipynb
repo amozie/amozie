{
 "cells": [
  {
   "cell_type": "code",
   "execution_count": 1,
   "metadata": {
    "collapsed": true
   },
   "outputs": [],
   "source": [
    "import numpy as np\n",
    "import matplotlib.pyplot as plt\n",
    "import pandas as pd\n",
    "import itertools\n",
    "%matplotlib inline"
   ]
  },
  {
   "cell_type": "code",
   "execution_count": 2,
   "metadata": {},
   "outputs": [
    {
     "name": "stderr",
     "output_type": "stream",
     "text": [
      "D:\\Anaconda3\\lib\\site-packages\\h5py\\__init__.py:34: FutureWarning: Conversion of the second argument of issubdtype from `float` to `np.floating` is deprecated. In future, it will be treated as `np.float64 == np.dtype(float).type`.\n",
      "  from ._conv import register_converters as _register_converters\n",
      "Using TensorFlow backend.\n"
     ]
    }
   ],
   "source": [
    "from keras.datasets import mnist"
   ]
  },
  {
   "cell_type": "code",
   "execution_count": 3,
   "metadata": {
    "collapsed": true
   },
   "outputs": [],
   "source": [
    "(X_train, y_train), (X_test, y_test) = mnist.load_data()"
   ]
  },
  {
   "cell_type": "code",
   "execution_count": 280,
   "metadata": {
    "collapsed": true
   },
   "outputs": [],
   "source": [
    "n0 = 28*28\n",
    "n1 = 16\n",
    "n2 = 16\n",
    "n3 = 10\n",
    "W1 = np.random.randn(n0, n1)\n",
    "b1 = np.random.randn(n1)\n",
    "W2 = np.random.randn(n1, n2)\n",
    "b2 = np.random.randn(n2)\n",
    "W3 = np.random.randn(n2, n3)\n",
    "b3 = np.random.randn(n3)"
   ]
  },
  {
   "cell_type": "code",
   "execution_count": 281,
   "metadata": {
    "collapsed": true
   },
   "outputs": [],
   "source": [
    "epoch = 10\n",
    "batch_size = 50\n",
    "learning_rate = 1"
   ]
  },
  {
   "cell_type": "code",
   "execution_count": 282,
   "metadata": {},
   "outputs": [
    {
     "name": "stdout",
     "output_type": "stream",
     "text": [
      "epoch 1: 2.3134878164768713; acc: 0.098\n",
      "epoch 2: 2.3047046617525093; acc: 0.098\n",
      "epoch 3: 2.3074088863592848; acc: 0.098\n",
      "epoch 4: 2.3055598197912737; acc: 0.098\n",
      "epoch 5: 2.306018358408406; acc: 0.098\n",
      "epoch 6: 2.3072460760063382; acc: 0.098\n",
      "epoch 7: 2.3049968889649666; acc: 0.098\n",
      "epoch 8: 2.3056923357408436; acc: 0.098\n",
      "epoch 9: 2.305976139992221; acc: 0.098\n",
      "epoch 10: 2.3060204613594197; acc: 0.098\n"
     ]
    }
   ],
   "source": [
    "m = X_train.shape[0]\n",
    "losses = []\n",
    "for i in range(epoch):\n",
    "    j = 0\n",
    "    step = 0\n",
    "    arr = np.arange(m)\n",
    "    np.random.shuffle(arr)\n",
    "    while j < m:\n",
    "        arr_j = arr[j:j+batch_size]\n",
    "        j_size = arr_j.size\n",
    "        Z0 = X_train[arr_j].reshape(j_size, n0).astype(np.float64)\n",
    "        y = y_train[arr_j]\n",
    "        \n",
    "        U1 = Z0 @ W1\n",
    "        V1 = U1 + b1\n",
    "        Z1 = V1.copy()\n",
    "        Z1[Z1 < 0] = 0\n",
    "        \n",
    "        U2 = Z1 @ W2\n",
    "        V2 = U2 + b2\n",
    "        Z2 = V2.copy()\n",
    "        Z2[Z2 < 0] = 0\n",
    "        \n",
    "        U3 = Z2 @ W3\n",
    "        V3 = U3 + b3\n",
    "        V3_max = V3.max(axis=1, keepdims=True)\n",
    "        T3 = V3 - V3_max\n",
    "        H3_exp = np.exp(T3)\n",
    "        H3_exp_sum = H3_exp.sum(axis=1, keepdims=True)\n",
    "        H3 = H3_exp / H3_exp_sum\n",
    "        Z3 = np.log(H3_exp_sum) - T3\n",
    "        L = Z3[range(j_size), y]\n",
    "        \n",
    "        l = L.sum()/j_size\n",
    "        \n",
    "        dT3 = H3\n",
    "        dT3[range(j_size), y] -= 1\n",
    "        dT3 = dT3/j_size\n",
    "        dV3 = dT3\n",
    "        db3 = dV3.sum(axis=0)\n",
    "        dW3 = Z2.T @ dV3\n",
    "        dZ2 = dV3 @ W3.T\n",
    "        \n",
    "        dV2 = dZ2 * (Z2 > 0)\n",
    "        db2 = dV2.sum(axis=0)\n",
    "        dW2 = Z1.T @ dV2\n",
    "        dZ1 = dV2 @ W2.T\n",
    "        \n",
    "        dV1 = dZ1 * (Z1 > 0)\n",
    "        db1 = dV1.sum(axis=0)\n",
    "        dW1 = Z0.T @ dV1\n",
    "        \n",
    "        W1 -= learning_rate * dW1\n",
    "        b1 -= learning_rate * db1\n",
    "        W2 -= learning_rate * dW2\n",
    "        b2 -= learning_rate * db2\n",
    "        W3 -= learning_rate * dW3\n",
    "        b3 -= learning_rate * db3\n",
    "        \n",
    "        j += batch_size\n",
    "        step += 1\n",
    "    test_size = X_test.shape[0]\n",
    "    Z0 = X_test.reshape(test_size, n0)\n",
    "    y = y_test\n",
    "    \n",
    "    U1 = Z0 @ W1\n",
    "    V1 = U1 + b1\n",
    "    Z1 = V1.copy()\n",
    "    Z1[Z1 < 0] = 0\n",
    "\n",
    "    U2 = Z1 @ W2\n",
    "    V2 = U2 + b2\n",
    "    Z2 = V2.copy()\n",
    "    Z2[Z2 < 0] = 0\n",
    "\n",
    "    U3 = Z2 @ W3\n",
    "    V3 = U3 + b3\n",
    "    V3_max = V3.max(axis=1, keepdims=True)\n",
    "    T3 = V3 - V3_max\n",
    "    H3_exp = np.exp(T3)\n",
    "    H3_exp_sum = H3_exp.sum(axis=1, keepdims=True)\n",
    "    H3 = H3_exp / H3_exp_sum\n",
    "    Z3 = np.log(H3_exp_sum) - T3\n",
    "    L = Z3[range(test_size), y]\n",
    "\n",
    "    l = L.sum()/test_size\n",
    "    \n",
    "    acc = np.sum(pred == y)/test_size\n",
    "    losses.append(l)\n",
    "    print(f'epoch {i+1}: {l}; acc: {acc}')"
   ]
  },
  {
   "cell_type": "code",
   "execution_count": 277,
   "metadata": {},
   "outputs": [
    {
     "name": "stdout",
     "output_type": "stream",
     "text": [
      "1.6524370422430542e-05\n"
     ]
    },
    {
     "data": {
      "text/plain": [
       "(array([100.,  50., 100.,   0.,  50., 100.,   0.,  50.,   0.,  50.]),\n",
       " array([1.11812281e-06, 2.65874757e-06, 4.19937233e-06, 5.73999709e-06,\n",
       "        7.28062186e-06, 8.82124662e-06, 1.03618714e-05, 1.19024961e-05,\n",
       "        1.34431209e-05, 1.49837457e-05, 1.65243704e-05]),\n",
       " <a list of 10 Patch objects>)"
      ]
     },
     "execution_count": 277,
     "metadata": {},
     "output_type": "execute_result"
    },
    {
     "data": {
      "image/png": "[encoded data removed]",
      "text/plain": [
       "<matplotlib.figure.Figure at 0x232346de0b8>"
      ]
     },
     "metadata": {},
     "output_type": "display_data"
    }
   ],
   "source": [
    "dx = 0.001\n",
    "dF = dT3\n",
    "dF_val = np.zeros_like(dF)\n",
    "for i in np.ndindex(T3.shape):\n",
    "    T3 = V3 - V3_max\n",
    "    T3[i] += dx\n",
    "    \n",
    "    H3_exp = np.exp(T3)\n",
    "    H3_exp_sum = H3_exp.sum(axis=1, keepdims=True)\n",
    "    H3 = H3_exp / H3_exp_sum\n",
    "    Z3 = np.log(H3_exp_sum) - T3\n",
    "    L = Z3[range(j_size), y]\n",
    "    \n",
    "    l_new = L.sum()/j_size\n",
    "    \n",
    "    dl = (l_new - l)/dx\n",
    "    dF_val[i] = dl\n",
    "print(np.abs(dF-dF_val).max())\n",
    "plt.hist(np.abs(dF-dF_val).flatten())"
   ]
  },
  {
   "cell_type": "code",
   "execution_count": 276,
   "metadata": {
    "collapsed": true
   },
   "outputs": [],
   "source": [
    "Z0 = X_train[arr_j].reshape(j_size, n0).astype(np.float64)\n",
    "y = y_train[arr_j]\n",
    "\n",
    "U1 = Z0 @ W1\n",
    "V1 = U1 + b1\n",
    "Z1 = V1.copy()\n",
    "Z1[Z1 < 0] = 0\n",
    "\n",
    "U2 = Z1 @ W2\n",
    "V2 = U2 + b2\n",
    "Z2 = V2.copy()\n",
    "Z2[Z2 < 0] = 0\n",
    "\n",
    "U3 = Z2 @ W3\n",
    "V3 = U3 + b3\n",
    "V3_max = V3.max(axis=1, keepdims=True)\n",
    "T3 = V3 - V3_max\n",
    "H3_exp = np.exp(T3)\n",
    "H3_exp_sum = H3_exp.sum(axis=1, keepdims=True)\n",
    "H3 = H3_exp / H3_exp_sum\n",
    "Z3 = np.log(H3_exp_sum) - T3\n",
    "L = Z3[range(j_size), y]\n",
    "\n",
    "l = L.sum()/j_size"
   ]
  },
  {
   "cell_type": "code",
   "execution_count": 272,
   "metadata": {},
   "outputs": [
    {
     "name": "stdout",
     "output_type": "stream",
     "text": [
      "0.0\n"
     ]
    },
    {
     "data": {
      "text/plain": [
       "(array([    0.,     0.,     0.,     0.,     0., 12544.,     0.,     0.,\n",
       "            0.,     0.]),\n",
       " array([-0.5, -0.4, -0.3, -0.2, -0.1,  0. ,  0.1,  0.2,  0.3,  0.4,  0.5]),\n",
       " <a list of 10 Patch objects>)"
      ]
     },
     "execution_count": 272,
     "metadata": {},
     "output_type": "execute_result"
    },
    {
     "data": {
      "image/png": "[encoded data removed]",
      "text/plain": [
       "<matplotlib.figure.Figure at 0x232345f2ac8>"
      ]
     },
     "metadata": {},
     "output_type": "display_data"
    }
   ],
   "source": [
    "dx = 0.001\n",
    "F = W1\n",
    "dF = dW1\n",
    "dF_val = np.zeros_like(dF)\n",
    "for i in np.ndindex(F.shape):\n",
    "    F_copy = F.copy()\n",
    "    F_copy[i] += dx\n",
    "    \n",
    "    U1 = Z0 @ F_copy\n",
    "    V1 = U1 + b1\n",
    "    Z1 = V1.copy()\n",
    "    Z1[Z1 < 0] = 0\n",
    "\n",
    "    U2 = Z1 @ W2\n",
    "    V2 = U2 + b2\n",
    "    Z2 = V2.copy()\n",
    "    Z2[Z2 < 0] = 0\n",
    "\n",
    "    U3 = Z2 @ W3\n",
    "    V3 = U3 + b3\n",
    "    V3_max = V3.max(axis=1, keepdims=True)\n",
    "    T3 = V3 - V3_max\n",
    "    H3_exp = np.exp(T3)\n",
    "    H3_exp_sum = H3_exp.sum(axis=1, keepdims=True)\n",
    "    H3 = H3_exp / H3_exp_sum\n",
    "    Z3 = np.log(H3_exp_sum) - T3\n",
    "    L = Z3[range(j_size), y]\n",
    "    \n",
    "    l_new = L.sum()/j_size\n",
    "    \n",
    "    dl = (l_new - l)/dx\n",
    "    dF_val[i] = dl\n",
    "print(np.abs(dF-dF_val).max())\n",
    "plt.hist(np.abs(dF-dF_val).flatten())"
   ]
  },
  {
   "cell_type": "code",
   "execution_count": 244,
   "metadata": {},
   "outputs": [
    {
     "data": {
      "text/plain": [
       "array([[ 9.80588782e+02, -2.75045146e+02, -3.83287424e+01,\n",
       "         6.49130088e+02,  3.77548403e+03,  0.00000000e+00,\n",
       "        -8.68826604e+02,  1.04806164e+03,  6.36136788e+01,\n",
       "         1.45351541e+03,  2.31634292e+03,  2.14801399e+01,\n",
       "        -4.52167235e+02, -4.58769851e+02,  1.03467480e+03,\n",
       "        -1.13790520e+01],\n",
       "       [ 5.34741430e+02, -2.72494196e+02, -1.23588859e+02,\n",
       "         2.92125593e+02,  2.62705587e+03,  0.00000000e+00,\n",
       "        -2.87746946e+02,  7.54600870e+02, -6.24414406e+01,\n",
       "         3.64345107e+02,  1.23182370e+03,  3.71473974e+01,\n",
       "        -3.77775121e+02, -2.10600045e+02,  7.11716767e+02,\n",
       "        -1.55678493e+01],\n",
       "       [ 5.70935700e+02, -4.04994409e+02, -3.69744989e+02,\n",
       "         5.97053871e+02,  2.90010542e+03,  2.71984224e+01,\n",
       "        -4.47478339e+02,  6.81350829e+02,  8.31057716e+01,\n",
       "         5.16483718e+02,  1.33859350e+03, -6.42688396e+00,\n",
       "        -2.45811903e+02, -1.45215676e+02,  6.46552041e+02,\n",
       "         1.41797019e+02],\n",
       "       [ 8.93907988e+01, -1.60791408e+02, -2.44792156e+02,\n",
       "         4.12723265e+02,  8.34834215e+02,  7.26613821e+00,\n",
       "        -1.60492336e+02,  7.94163741e+01, -6.94017966e+00,\n",
       "         5.19217100e+01,  1.59838322e+02,  1.04875100e+00,\n",
       "        -1.35975820e+01, -3.88738660e+00,  6.45875374e+01,\n",
       "         1.58716944e+01],\n",
       "       [ 6.28958080e+02, -3.22001476e+02, -1.75891571e+02,\n",
       "         6.15126277e+02,  3.78231984e+03,  0.00000000e+00,\n",
       "        -4.41136457e+02,  8.80148084e+02, -1.34158515e+02,\n",
       "         9.22119765e+02,  1.41754816e+03,  1.12441806e+02,\n",
       "        -2.47223764e+02, -2.51442639e+02,  7.24366208e+02,\n",
       "        -2.65308702e+01],\n",
       "       [ 3.78167560e+02, -2.02711292e+02,  5.40565519e+01,\n",
       "         1.12313896e+02,  7.23070193e+02,  1.86322717e+01,\n",
       "        -4.96772148e+01,  3.56248068e+02,  5.93395619e+01,\n",
       "         1.71185270e+02,  3.97436049e+02,  1.80965815e+01,\n",
       "        -8.21190110e+01, -2.69255698e+01,  3.39012678e+02,\n",
       "         8.56000070e+01],\n",
       "       [ 2.41566845e+02,  7.84522428e+00,  2.33669449e+01,\n",
       "         5.79866796e+01,  1.05297610e+03,  0.00000000e+00,\n",
       "        -1.08781970e+01,  9.99139302e+01,  4.07657046e+02,\n",
       "         2.65428056e+02,  3.69825264e+02,  1.77311930e+01,\n",
       "        -4.37294872e+02, -4.80919713e+01, -1.10401453e+00,\n",
       "         1.51814161e+01],\n",
       "       [ 1.28224224e+02, -2.61877936e+01,  2.31815265e+01,\n",
       "         1.28506359e+02,  2.83740956e+02,  0.00000000e+00,\n",
       "        -7.28554423e+01,  4.08065576e+01, -3.79377929e+01,\n",
       "         1.57193312e+02,  5.81198266e+01,  2.74946748e+00,\n",
       "        -5.93158685e+01, -4.61964906e+01,  8.40786536e+01,\n",
       "        -1.70560721e+01],\n",
       "       [ 3.22095313e+02, -8.09113679e+01,  2.36661665e+01,\n",
       "         1.12836014e+02,  7.10662226e+02,  9.05319408e+00,\n",
       "        -1.34394072e+02,  2.96323577e+02,  3.37539141e+01,\n",
       "         2.20975599e+02,  2.70242879e+02, -5.99082496e+00,\n",
       "        -1.89248951e+02, -5.97511492e+01,  1.83002673e+02,\n",
       "        -7.05048598e+01],\n",
       "       [ 6.89487996e+02, -3.01978231e+02, -5.64435255e+01,\n",
       "         1.00417456e+03,  5.14172687e+03,  8.20526068e-01,\n",
       "        -9.63293422e+02,  1.16805568e+03,  3.70078750e+01,\n",
       "         1.39788360e+03,  1.49361947e+03,  1.30788628e+02,\n",
       "        -6.84125197e+02, -3.53833287e+02,  7.60188424e+02,\n",
       "        -3.99470929e+01],\n",
       "       [ 3.75392364e+02, -1.72805546e+02, -3.69026692e+02,\n",
       "         7.48892414e+02,  3.18031892e+03,  0.00000000e+00,\n",
       "        -3.63733808e+02,  4.85954692e+02,  1.30518109e-01,\n",
       "         7.98559936e+02,  6.55718779e+02,  1.78470599e+01,\n",
       "        -2.88924392e+02, -2.76245808e+02,  2.50660982e+02,\n",
       "        -2.81938520e+01],\n",
       "       [ 5.89364285e+02, -1.92816598e+02, -6.70380704e+01,\n",
       "         5.78006142e+02,  3.12760313e+03,  3.27136009e+01,\n",
       "        -6.73706450e+02,  8.95348115e+02,  1.51832495e+02,\n",
       "         8.72246823e+02,  1.16029560e+03,  1.20936987e+02,\n",
       "        -6.79760675e+02, -3.09582137e+02,  8.20415577e+02,\n",
       "        -3.86779694e+01],\n",
       "       [ 4.75620406e+02, -2.02403598e+02, -1.03393771e+01,\n",
       "         2.82383367e+02,  7.29393174e+02,  1.65537693e+01,\n",
       "        -1.13221600e+02,  2.18790548e+02, -1.39085450e+02,\n",
       "         2.89486195e+02,  2.67903585e+02, -1.52782083e+01,\n",
       "         1.06747460e+01, -1.35772141e+02,  3.04692243e+02,\n",
       "        -3.90519585e+01],\n",
       "       [ 5.39774766e+02, -4.30847077e+02, -1.68295486e+02,\n",
       "         1.07176979e+03,  3.62166497e+03,  2.97332032e+01,\n",
       "        -7.97932182e+02,  7.40985980e+02, -3.71879594e+01,\n",
       "         1.45711105e+03,  1.39359374e+03,  7.35035895e+00,\n",
       "        -1.67291604e+02, -4.45087146e+02,  8.03649116e+02,\n",
       "        -2.58172531e+01],\n",
       "       [ 5.18097322e+02, -4.17997626e+02,  1.36167338e+02,\n",
       "         6.21278126e+02,  2.51699343e+03,  1.32063587e+01,\n",
       "        -4.68858015e+02,  6.49324780e+02,  5.89310499e+01,\n",
       "         4.57948729e+02,  1.61608316e+03, -5.09513135e+01,\n",
       "        -1.07934547e+02, -1.76795623e+02,  1.57614672e+03,\n",
       "         1.51678857e+01],\n",
       "       [ 1.14021433e+02, -1.93563039e+02,  7.06223367e+00,\n",
       "         1.78675936e+02,  6.54143170e+02,  0.00000000e+00,\n",
       "        -1.36012980e+02,  1.75431756e+02,  3.18433534e+00,\n",
       "         2.15491228e+02,  5.91642198e+02,  1.28129145e+00,\n",
       "        -3.80791318e+01, -4.60338216e+01,  2.67150029e+02,\n",
       "        -1.53120509e+01]])"
      ]
     },
     "execution_count": 244,
     "metadata": {},
     "output_type": "execute_result"
    }
   ],
   "source": [
    "dF"
   ]
  },
  {
   "cell_type": "code",
   "execution_count": 245,
   "metadata": {},
   "outputs": [
    {
     "data": {
      "text/plain": [
       "array([[ 9.80588782e+02, -2.76479452e+02, -3.83287425e+01,\n",
       "         6.49130088e+02,  3.77548403e+03,  0.00000000e+00,\n",
       "        -8.68826604e+02,  1.04806164e+03,  6.36136788e+01,\n",
       "         1.45351541e+03,  2.31634292e+03,  2.14801399e+01,\n",
       "        -4.52167235e+02, -4.58769851e+02,  1.03467480e+03,\n",
       "        -1.13790520e+01],\n",
       "       [ 5.34741430e+02, -2.76056144e+02, -1.23588859e+02,\n",
       "         2.92125593e+02,  2.62705587e+03,  0.00000000e+00,\n",
       "        -2.87746946e+02,  7.54600870e+02, -6.24414406e+01,\n",
       "         3.64345107e+02,  1.23182370e+03,  3.71473974e+01,\n",
       "        -3.77775121e+02, -2.10600045e+02,  7.11716767e+02,\n",
       "        -1.55678493e+01],\n",
       "       [ 5.70935700e+02, -4.04994409e+02, -3.69744989e+02,\n",
       "         5.97053871e+02,  2.90010542e+03,  2.71984224e+01,\n",
       "        -4.47478339e+02,  6.81350829e+02,  8.31057716e+01,\n",
       "         5.16483718e+02,  1.33859350e+03, -6.42688397e+00,\n",
       "        -2.45811903e+02, -1.45215676e+02,  6.46552041e+02,\n",
       "         1.41797019e+02],\n",
       "       [ 8.93907987e+01, -1.60791408e+02, -2.44792156e+02,\n",
       "         4.12723265e+02,  8.34834215e+02,  7.26613821e+00,\n",
       "        -1.60492336e+02,  7.94163741e+01, -6.94017966e+00,\n",
       "         5.19217100e+01,  1.59838322e+02,  1.04875100e+00,\n",
       "        -1.35975820e+01, -3.88738660e+00,  6.45875374e+01,\n",
       "         1.58716944e+01],\n",
       "       [ 6.28958080e+02, -3.22001476e+02, -1.75891571e+02,\n",
       "         6.15126277e+02,  3.78231984e+03,  0.00000000e+00,\n",
       "        -4.41136457e+02,  8.80148084e+02, -1.34158515e+02,\n",
       "         9.22119765e+02,  1.41754816e+03,  1.12441806e+02,\n",
       "        -2.47223764e+02, -2.51442639e+02,  7.24366208e+02,\n",
       "        -2.65308702e+01],\n",
       "       [ 3.78167560e+02, -2.02711292e+02,  5.40565519e+01,\n",
       "         1.12313896e+02,  7.23070193e+02,  1.86322717e+01,\n",
       "        -4.96772148e+01,  3.56248068e+02,  5.93395618e+01,\n",
       "         1.71185270e+02,  3.97436049e+02,  1.80965815e+01,\n",
       "        -8.21190110e+01, -2.69255698e+01,  3.39012678e+02,\n",
       "         8.56000070e+01],\n",
       "       [ 2.41566844e+02,  7.84522427e+00,  2.33669449e+01,\n",
       "         5.79866795e+01,  1.05297610e+03,  0.00000000e+00,\n",
       "        -1.08781970e+01,  9.99139302e+01,  4.07657046e+02,\n",
       "         2.65428056e+02,  3.69825264e+02,  1.77311930e+01,\n",
       "        -4.37294872e+02, -4.80919713e+01, -1.10401453e+00,\n",
       "         1.51814161e+01],\n",
       "       [ 1.28224224e+02, -2.61877936e+01,  2.31815265e+01,\n",
       "         1.28506359e+02,  2.83740956e+02,  0.00000000e+00,\n",
       "        -7.28554423e+01,  4.08065576e+01, -3.79377929e+01,\n",
       "         1.57193312e+02,  5.81198266e+01,  2.74946748e+00,\n",
       "        -5.93158685e+01, -4.61964906e+01,  8.40786536e+01,\n",
       "        -1.70560721e+01],\n",
       "       [ 3.22095313e+02, -8.09113679e+01,  2.36661664e+01,\n",
       "         1.12836014e+02,  7.10662226e+02,  9.05319408e+00,\n",
       "        -1.34394072e+02,  2.96323577e+02,  3.37539141e+01,\n",
       "         2.20975599e+02,  2.70242879e+02, -5.99082496e+00,\n",
       "        -1.89248951e+02, -5.97511492e+01,  1.83002673e+02,\n",
       "        -7.05048598e+01],\n",
       "       [ 6.89487996e+02, -3.04789043e+02, -5.64435255e+01,\n",
       "         1.00417456e+03,  5.14172687e+03,  8.20526067e-01,\n",
       "        -9.63293422e+02,  1.16805568e+03,  3.70078750e+01,\n",
       "         1.39788360e+03,  1.49361947e+03,  1.30788628e+02,\n",
       "        -6.84125197e+02, -3.53833287e+02,  7.60188424e+02,\n",
       "        -3.99470929e+01],\n",
       "       [ 3.75392364e+02, -1.72805546e+02, -3.69026692e+02,\n",
       "         7.48892414e+02,  3.18031892e+03,  0.00000000e+00,\n",
       "        -3.63733808e+02,  4.85954692e+02,  1.30518107e-01,\n",
       "         7.98559936e+02,  6.55718779e+02,  1.78470599e+01,\n",
       "        -2.88924392e+02, -2.76245808e+02,  2.50660982e+02,\n",
       "        -2.81938520e+01],\n",
       "       [ 5.89364285e+02, -1.95182709e+02, -6.70380704e+01,\n",
       "         5.78006142e+02,  3.12760313e+03,  3.27136009e+01,\n",
       "        -6.73706450e+02,  8.95348115e+02,  1.51832495e+02,\n",
       "         8.72246823e+02,  1.16029560e+03,  1.20936987e+02,\n",
       "        -6.79760675e+02, -3.09582137e+02,  8.20415577e+02,\n",
       "        -3.86779694e+01],\n",
       "       [ 4.75620406e+02, -2.02403598e+02, -1.03393771e+01,\n",
       "         2.82383367e+02,  7.29393174e+02,  1.65537693e+01,\n",
       "        -1.13221600e+02,  2.18790548e+02, -1.39085450e+02,\n",
       "         2.89486195e+02,  2.67903585e+02, -1.52782083e+01,\n",
       "         1.06747460e+01, -1.35772141e+02,  3.04692243e+02,\n",
       "        -3.90519585e+01],\n",
       "       [ 5.39774766e+02, -4.32895069e+02, -1.68295486e+02,\n",
       "         1.07176979e+03,  3.62166497e+03,  2.97332032e+01,\n",
       "        -7.97932182e+02,  7.40985980e+02, -3.71879594e+01,\n",
       "         1.45711105e+03,  1.39359374e+03,  7.35035895e+00,\n",
       "        -1.67291604e+02, -4.45087146e+02,  8.03649116e+02,\n",
       "        -2.58172531e+01],\n",
       "       [ 5.18097322e+02, -4.20519487e+02,  1.36167338e+02,\n",
       "         6.21278126e+02,  2.51699343e+03,  1.32063586e+01,\n",
       "        -4.68858015e+02,  6.49324780e+02,  5.89310499e+01,\n",
       "         4.57948729e+02,  1.61608316e+03, -5.09513135e+01,\n",
       "        -1.07934547e+02, -1.76795623e+02,  1.57614672e+03,\n",
       "         1.51678857e+01],\n",
       "       [ 1.14021433e+02, -1.93563039e+02,  7.06223368e+00,\n",
       "         1.78675936e+02,  6.54143170e+02,  0.00000000e+00,\n",
       "        -1.36012980e+02,  1.75431756e+02,  3.18433534e+00,\n",
       "         2.15491228e+02,  5.91642198e+02,  1.28129144e+00,\n",
       "        -3.80791318e+01, -4.60338216e+01,  2.67150029e+02,\n",
       "        -1.53120509e+01]])"
      ]
     },
     "execution_count": 245,
     "metadata": {},
     "output_type": "execute_result"
    }
   ],
   "source": [
    "dF_val"
   ]
  }
 ],
 "metadata": {
  "kernelspec": {
   "display_name": "Python 3",
   "language": "python",
   "name": "python3"
  },
  "language_info": {
   "codemirror_mode": {
    "name": "ipython",
    "version": 3
   },
   "file_extension": ".py",
   "mimetype": "text/x-python",
   "name": "python",
   "nbconvert_exporter": "python",
   "pygments_lexer": "ipython3",
   "version": "3.6.1"
  },
  "toc": {
   "nav_menu": {},
   "number_sections": true,
   "sideBar": true,
   "skip_h1_title": false,
   "title_cell": "Table of Contents",
   "title_sidebar": "Contents",
   "toc_cell": false,
   "toc_position": {},
   "toc_section_display": true,
   "toc_window_display": false
  },
  "varInspector": {
   "cols": {
    "lenName": 16,
    "lenType": 16,
    "lenVar": 40
   },
   "kernels_config": {
    "python": {
     "delete_cmd_postfix": "",
     "delete_cmd_prefix": "del ",
     "library": "var_list.py",
     "varRefreshCmd": "print(var_dic_list())"
    },
    "r": {
     "delete_cmd_postfix": ") ",
     "delete_cmd_prefix": "rm(",
     "library": "var_list.r",
     "varRefreshCmd": "cat(var_dic_list()) "
    }
   },
   "types_to_exclude": [
    "module",
    "function",
    "builtin_function_or_method",
    "instance",
    "_Feature"
   ],
   "window_display": false
  }
 },
 "nbformat": 4,
 "nbformat_minor": 2
}
