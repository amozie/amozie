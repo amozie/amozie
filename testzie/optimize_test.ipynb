{
 "cells": [
  {
   "cell_type": "code",
   "execution_count": 1,
   "metadata": {
    "collapsed": true
   },
   "outputs": [],
   "source": [
    "import numpy as np\n",
    "from scipy import optimize\n",
    "import matplotlib.pyplot as plt"
   ]
  },
  {
   "cell_type": "code",
   "execution_count": 2,
   "metadata": {
    "collapsed": true
   },
   "outputs": [],
   "source": [
    "import time"
   ]
  },
  {
   "cell_type": "code",
   "execution_count": 3,
   "metadata": {
    "collapsed": true
   },
   "outputs": [],
   "source": [
    "import pandas as pd"
   ]
  },
  {
   "cell_type": "code",
   "execution_count": 4,
   "metadata": {
    "collapsed": true
   },
   "outputs": [],
   "source": [
    "%matplotlib inline"
   ]
  },
  {
   "cell_type": "code",
   "execution_count": 5,
   "metadata": {
    "collapsed": true
   },
   "outputs": [],
   "source": [
    "X = np.random.rand(1000, 3)"
   ]
  },
  {
   "cell_type": "code",
   "execution_count": 6,
   "metadata": {
    "collapsed": true
   },
   "outputs": [],
   "source": [
    "theta = np.array((1, 2, 3, 4))"
   ]
  },
  {
   "cell_type": "code",
   "execution_count": 7,
   "metadata": {
    "collapsed": true
   },
   "outputs": [],
   "source": [
    "X_con = np.insert(X, 0, 1, axis=1)"
   ]
  },
  {
   "cell_type": "code",
   "execution_count": 8,
   "metadata": {
    "collapsed": true
   },
   "outputs": [],
   "source": [
    "y = X_con @ theta"
   ]
  },
  {
   "cell_type": "code",
   "execution_count": 9,
   "metadata": {
    "collapsed": true
   },
   "outputs": [],
   "source": [
    "y_err = y + np.random.randn(1000)"
   ]
  },
  {
   "cell_type": "code",
   "execution_count": 42,
   "metadata": {
    "collapsed": true
   },
   "outputs": [],
   "source": [
    "m=1000"
   ]
  },
  {
   "cell_type": "code",
   "execution_count": 99,
   "metadata": {
    "collapsed": true
   },
   "outputs": [],
   "source": [
    "param = np.random.randn(4)"
   ]
  },
  {
   "cell_type": "code",
   "execution_count": 100,
   "metadata": {},
   "outputs": [
    {
     "name": "stdout",
     "output_type": "stream",
     "text": [
      "(array([ 0.85787509,  2.0124089 ,  3.00852751,  4.19194791]), 1)\n",
      "0.0009989738464355469\n"
     ]
    }
   ],
   "source": [
    "begin = time.time()\n",
    "opt = optimize.leastsq(lambda p, y, x:y - x @ p, param, args=(y_err, X_con))\n",
    "end = time.time()\n",
    "print(opt)\n",
    "print(end - begin)"
   ]
  },
  {
   "cell_type": "code",
   "execution_count": 101,
   "metadata": {},
   "outputs": [
    {
     "name": "stdout",
     "output_type": "stream",
     "text": [
      "      fun: 0.485694220633477\n",
      " hess_inv: array([[  9.39485861,  -5.94514747,  -4.9981894 ,  -5.67163751],\n",
      "       [ -5.94514747,  11.75844078,  -0.1799552 ,  -0.25408951],\n",
      "       [ -4.9981894 ,  -0.1799552 ,  10.41797101,   0.03844398],\n",
      "       [ -5.67163751,  -0.25408951,   0.03844398,  11.36617952]])\n",
      "      jac: array([ -8.11612404e-08,   1.32821473e-06,   1.61043554e-06,\n",
      "        -2.82940172e-06])\n",
      "  message: 'Optimization terminated successfully.'\n",
      "     nfev: 20\n",
      "      nit: 18\n",
      "     njev: 20\n",
      "   status: 0\n",
      "  success: True\n",
      "        x: array([ 0.85787431,  2.01242807,  3.00854703,  4.19191085])\n",
      "0.004000663757324219\n"
     ]
    }
   ],
   "source": [
    "begin = time.time()\n",
    "opt = optimize.minimize(\n",
    "    lambda p, y, x: np.sum((y - x @ p)**2)/2/m, \n",
    "    param, \n",
    "    args=(y_err, X_con), \n",
    "    jac=lambda p, y, x:-x.T @ (y - x @ p)/m, \n",
    "    method='BFGS'\n",
    ")\n",
    "end = time.time()\n",
    "print(opt)\n",
    "print(end - begin)"
   ]
  },
  {
   "cell_type": "code",
   "execution_count": 102,
   "metadata": {},
   "outputs": [
    {
     "name": "stdout",
     "output_type": "stream",
     "text": [
      "(array([ 0.85787509,  2.0124089 ,  3.00852751,  4.19194791]), 1)\n",
      "0.22800087928771973\n"
     ]
    }
   ],
   "source": [
    "begin = time.time()\n",
    "for i in range(1000):\n",
    "    opt = optimize.leastsq(lambda p, y, x:y - x @ p, param, args=(y_err, X_con))\n",
    "end = time.time()\n",
    "print(opt)\n",
    "print(end - begin)"
   ]
  },
  {
   "cell_type": "code",
   "execution_count": 103,
   "metadata": {},
   "outputs": [
    {
     "name": "stdout",
     "output_type": "stream",
     "text": [
      "      fun: 0.48569422055334632\n",
      " hess_inv: <4x4 LbfgsInvHessProduct with dtype=float64>\n",
      "      jac: array([  6.75139227e-07,   5.22818183e-07,   8.53617284e-08,\n",
      "         2.77786833e-07])\n",
      "  message: b'CONVERGENCE: NORM_OF_PROJECTED_GRADIENT_<=_PGTOL'\n",
      "     nfev: 11\n",
      "      nit: 9\n",
      "   status: 0\n",
      "  success: True\n",
      "        x: array([ 0.85787641,  2.0124111 ,  3.00852477,  4.19194704])\n",
      "0.48201537132263184\n"
     ]
    }
   ],
   "source": [
    "begin = time.time()\n",
    "for i in range(1000):\n",
    "    opt = optimize.minimize(\n",
    "        lambda p, y, x: np.sum((y - x @ p)**2)/2/m, \n",
    "        param, \n",
    "        args=(y_err, X_con), \n",
    "        jac=lambda p, y, x:-x.T @ (y - x @ p)/m, \n",
    "        method='L-BFGS-B'\n",
    "    )\n",
    "end = time.time()\n",
    "print(opt)\n",
    "print(end - begin)"
   ]
  }
 ],
 "metadata": {
  "kernelspec": {
   "display_name": "Python 3",
   "language": "python",
   "name": "python3"
  },
  "language_info": {
   "codemirror_mode": {
    "name": "ipython",
    "version": 3
   },
   "file_extension": ".py",
   "mimetype": "text/x-python",
   "name": "python",
   "nbconvert_exporter": "python",
   "pygments_lexer": "ipython3",
   "version": "3.6.1"
  }
 },
 "nbformat": 4,
 "nbformat_minor": 2
}
